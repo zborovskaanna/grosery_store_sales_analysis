{
 "cells": [
  {
   "cell_type": "markdown",
   "id": "5370f21d",
   "metadata": {
    "ExecuteTime": {
     "end_time": "2022-12-18T08:04:15.713512Z",
     "start_time": "2022-12-18T08:04:15.663451Z"
    }
   },
   "source": [
    "# Вітаю на фінальному проєкті!\n",
    "Протягом курсу ми навчились завантажувати дані в Python, трансформувати їх, чистити, агрегувати, знаходити з допомогою даних відповіді на наші питання, використовувати sql, а також Tableau! \n",
    "Задача фінального проєкту - продемонструвати той рівень роботи з даними, на якому Ви є зараз, показати, що Ви вмі\n",
    "те робити.\n",
    "\n",
    "Цей ноутбук буде присвячений аналізу даних з файла `Grocery DataBase.xlsx`. В файлі ви знайдете опис колонок і значення. "
   ]
  },
  {
   "cell_type": "markdown",
   "id": "93fbe209",
   "metadata": {},
   "source": [
    "**Задача**: Уявіть, що Вам дали цей набір даних з питанням \"Що корисного ми можемо з них взяти для розвитку нашого бізнесу?\". То Вам необхідно розказати бізнесу історію про ці дані у форматі\n",
    "1. питання, яке Вас цікавить щодо цих даних як співробітника цього бізнесу, який дуже вболіває за його успіх, \n",
    "2. код для відповіді на це питання\n",
    "3. висновки, які Ви зробили з огляду на результат виконання коду: які рішення ми можемо прийняти щодо подальших кроків в аналізі або які рекомендації Ви б дали бізнесу виходячи з результатів.\n",
    "\n",
    "**Необхідно** \n",
    "\n",
    "1. поставити до даних _мінімум_ 10 бізнес-питань, при цьому зробивши   \n",
    "- початковий аналіз даних: їх розмір, структура, наявність пропущених значень та що з ними зробити, зміна типів даних там, де це доречно зробити (наприклад, якщо колонка завантажилась як тип string, а з опису видно, що там має бути float - варто змінити тип) - ця частина не входить у бізнес-питання, але є необхідною при аналізі даних.  \n",
    "- _мінімум_ 1 зведеної таблиці (pivot) або її аналога\n",
    "- _мінімум_ 5 візуалізацій, 3 з яких мають різний тип (наприклад, scatter plot, line plot, pair plot)\n",
    "- _мінімум_ 1 використання тестування статистичних гіпотез. Наприклад, порівняти, чи стат значимо відрізняється певний цікавий бізнесу показник для чоловіків і жінок. Важливо, що найбільш доречно це буде, якщо той показник, який порівнюємо між групами, справді має доволі незначну різницю. Але потренуватись можна і при наявності значної. Питання тут насправді що таке \"значна\")) І воно залежить від співвідношення розміру середнього і стандартного відхилення.\n",
    "\n",
    "    В даному мінімум-наборі немає вимоги на використання SQL. Але якщо Вам хочеться потренуватись, то Ви можете це зробити скориставшись pandasql. \n",
    "\n",
    "    Питанням може бути як \"Яка є кількість унікальних чеків в цьому наборі даних?\" так і щось значно складніше. Якщо у Вас складне питання, і аби відповісти на нього Ви мали відповісти на 3 менших питання (зробити якісь трансформації над даними, подивитись щось), то це рахується як 3 питання з 10 необхідних у завданні. Звісно ж Ви можете зробити більше за встановлений мінімум - все буде перевірено :)\n",
    "\n",
    "2. Розробити систему метрик для цього бізнесу (що нам цікаво вимірювати) і побудувати Tableau репорт відповідно до системи метрик. Опублікувати Tableau репорт на Tableau public і додати посилання на нього в ноутбуці з описом на кшталт \"Візуалізацію у вигляді інтерактивного репорту даних можна знайти за посиланням\".\n",
    "\n",
    "По закінченню - завантажте ноутбук на git і додаємо посилання на ноутбук в здачу роботи в Kwiga. "
   ]
  },
  {
   "cell_type": "markdown",
   "id": "d0b65e13",
   "metadata": {},
   "source": [
    "## Попередній огляд та очистка даних"
   ]
  },
  {
   "cell_type": "code",
   "execution_count": 1,
   "id": "1189a75c",
   "metadata": {},
   "outputs": [],
   "source": [
    "# іммпорт необхідних бібіліотек для аналізу\n",
    "\n",
    "import matplotlib.pyplot as plt\n",
    "import numpy as np\n",
    "import pandas as pd\n",
    "import seaborn as sns\n",
    "\n",
    "%matplotlib inline"
   ]
  },
  {
   "cell_type": "code",
   "execution_count": 2,
   "id": "411d6e2f",
   "metadata": {},
   "outputs": [],
   "source": [
    "path_to_file = '/home/anna/data/Grocery Database.xlsx'\n",
    "xl = pd.ExcelFile(path_to_file)"
   ]
  },
  {
   "cell_type": "code",
   "execution_count": 3,
   "id": "45b8047c",
   "metadata": {},
   "outputs": [],
   "source": [
    "df_grosto = xl.parse('Grosto DB')"
   ]
  },
  {
   "cell_type": "code",
   "execution_count": 4,
   "id": "fffb06c0",
   "metadata": {
    "scrolled": true
   },
   "outputs": [
    {
     "data": {
      "text/plain": [
       "(50447, 32)"
      ]
     },
     "execution_count": 4,
     "metadata": {},
     "output_type": "execute_result"
    }
   ],
   "source": [
    "df_grosto.shape"
   ]
  },
  {
   "cell_type": "markdown",
   "id": "a7662db2",
   "metadata": {},
   "source": [
    "Датафрейм має 50447 рядки та 32 колонки"
   ]
  },
  {
   "cell_type": "code",
   "execution_count": 5,
   "id": "2c856791",
   "metadata": {},
   "outputs": [
    {
     "data": {
      "text/html": [
       "<div>\n",
       "<style scoped>\n",
       "    .dataframe tbody tr th:only-of-type {\n",
       "        vertical-align: middle;\n",
       "    }\n",
       "\n",
       "    .dataframe tbody tr th {\n",
       "        vertical-align: top;\n",
       "    }\n",
       "\n",
       "    .dataframe thead th {\n",
       "        text-align: right;\n",
       "    }\n",
       "</style>\n",
       "<table border=\"1\" class=\"dataframe\">\n",
       "  <thead>\n",
       "    <tr style=\"text-align: right;\">\n",
       "      <th></th>\n",
       "      <th>Receipt Number</th>\n",
       "      <th>Date</th>\n",
       "      <th>Year</th>\n",
       "      <th>Month</th>\n",
       "      <th>Time</th>\n",
       "      <th>Mobile Number</th>\n",
       "      <th>Membership ID</th>\n",
       "      <th>Loyalty Card Points</th>\n",
       "      <th>Age</th>\n",
       "      <th>Gender</th>\n",
       "      <th>...</th>\n",
       "      <th>GST</th>\n",
       "      <th>Gross Bill Amount</th>\n",
       "      <th>Payment Mode</th>\n",
       "      <th>Bank Name</th>\n",
       "      <th>% Profit Margin</th>\n",
       "      <th>% Operating Cost</th>\n",
       "      <th>% Product Cost</th>\n",
       "      <th>Profit Margin</th>\n",
       "      <th>Operating Cost</th>\n",
       "      <th>Product Cost</th>\n",
       "    </tr>\n",
       "  </thead>\n",
       "  <tbody>\n",
       "    <tr>\n",
       "      <th>0</th>\n",
       "      <td>GIJ00001</td>\n",
       "      <td>2016-01-02</td>\n",
       "      <td>2016</td>\n",
       "      <td>1</td>\n",
       "      <td>10:08:03.260000</td>\n",
       "      <td>9793548581</td>\n",
       "      <td>MIDID0001</td>\n",
       "      <td>1</td>\n",
       "      <td>36</td>\n",
       "      <td>Male</td>\n",
       "      <td>...</td>\n",
       "      <td>0.1</td>\n",
       "      <td>13.32408</td>\n",
       "      <td>Card</td>\n",
       "      <td>Enterprise Bank</td>\n",
       "      <td>0.150</td>\n",
       "      <td>0.15</td>\n",
       "      <td>0.700</td>\n",
       "      <td>1.85400</td>\n",
       "      <td>1.8540</td>\n",
       "      <td>8.65200</td>\n",
       "    </tr>\n",
       "    <tr>\n",
       "      <th>1</th>\n",
       "      <td>GIJ00002</td>\n",
       "      <td>2016-01-02</td>\n",
       "      <td>2016</td>\n",
       "      <td>1</td>\n",
       "      <td>15:46:50.832000</td>\n",
       "      <td>9938441276</td>\n",
       "      <td>MIDID0002</td>\n",
       "      <td>2</td>\n",
       "      <td>54</td>\n",
       "      <td>Male</td>\n",
       "      <td>...</td>\n",
       "      <td>0.1</td>\n",
       "      <td>25.26480</td>\n",
       "      <td>Card</td>\n",
       "      <td>Philippine Veterans Bank</td>\n",
       "      <td>0.118</td>\n",
       "      <td>0.15</td>\n",
       "      <td>0.732</td>\n",
       "      <td>2.73760</td>\n",
       "      <td>3.4800</td>\n",
       "      <td>16.98240</td>\n",
       "    </tr>\n",
       "    <tr>\n",
       "      <th>2</th>\n",
       "      <td>GIJ00003</td>\n",
       "      <td>2016-01-02</td>\n",
       "      <td>2016</td>\n",
       "      <td>1</td>\n",
       "      <td>11:28:52.166000</td>\n",
       "      <td>9976742552</td>\n",
       "      <td>MIDID0003</td>\n",
       "      <td>1</td>\n",
       "      <td>16</td>\n",
       "      <td>Female</td>\n",
       "      <td>...</td>\n",
       "      <td>0.1</td>\n",
       "      <td>42.18786</td>\n",
       "      <td>Cash</td>\n",
       "      <td>BDO Unibank</td>\n",
       "      <td>0.147</td>\n",
       "      <td>0.15</td>\n",
       "      <td>0.703</td>\n",
       "      <td>1.95657</td>\n",
       "      <td>1.9965</td>\n",
       "      <td>9.35693</td>\n",
       "    </tr>\n",
       "  </tbody>\n",
       "</table>\n",
       "<p>3 rows × 32 columns</p>\n",
       "</div>"
      ],
      "text/plain": [
       "  Receipt Number       Date  Year  Month             Time  Mobile Number  \\\n",
       "0       GIJ00001 2016-01-02  2016      1  10:08:03.260000     9793548581   \n",
       "1       GIJ00002 2016-01-02  2016      1  15:46:50.832000     9938441276   \n",
       "2       GIJ00003 2016-01-02  2016      1  11:28:52.166000     9976742552   \n",
       "\n",
       "  Membership ID  Loyalty Card Points  Age  Gender  ...  GST Gross Bill Amount  \\\n",
       "0     MIDID0001                    1   36    Male  ...  0.1          13.32408   \n",
       "1     MIDID0002                    2   54    Male  ...  0.1          25.26480   \n",
       "2     MIDID0003                    1   16  Female  ...  0.1          42.18786   \n",
       "\n",
       "  Payment Mode                 Bank Name % Profit Margin % Operating Cost  \\\n",
       "0         Card           Enterprise Bank           0.150             0.15   \n",
       "1         Card  Philippine Veterans Bank           0.118             0.15   \n",
       "2         Cash               BDO Unibank           0.147             0.15   \n",
       "\n",
       "  % Product Cost  Profit Margin  Operating Cost  Product Cost  \n",
       "0          0.700        1.85400          1.8540       8.65200  \n",
       "1          0.732        2.73760          3.4800      16.98240  \n",
       "2          0.703        1.95657          1.9965       9.35693  \n",
       "\n",
       "[3 rows x 32 columns]"
      ]
     },
     "metadata": {},
     "output_type": "display_data"
    },
    {
     "data": {
      "text/html": [
       "<div>\n",
       "<style scoped>\n",
       "    .dataframe tbody tr th:only-of-type {\n",
       "        vertical-align: middle;\n",
       "    }\n",
       "\n",
       "    .dataframe tbody tr th {\n",
       "        vertical-align: top;\n",
       "    }\n",
       "\n",
       "    .dataframe thead th {\n",
       "        text-align: right;\n",
       "    }\n",
       "</style>\n",
       "<table border=\"1\" class=\"dataframe\">\n",
       "  <thead>\n",
       "    <tr style=\"text-align: right;\">\n",
       "      <th></th>\n",
       "      <th>Receipt Number</th>\n",
       "      <th>Date</th>\n",
       "      <th>Year</th>\n",
       "      <th>Month</th>\n",
       "      <th>Time</th>\n",
       "      <th>Mobile Number</th>\n",
       "      <th>Membership ID</th>\n",
       "      <th>Loyalty Card Points</th>\n",
       "      <th>Age</th>\n",
       "      <th>Gender</th>\n",
       "      <th>...</th>\n",
       "      <th>GST</th>\n",
       "      <th>Gross Bill Amount</th>\n",
       "      <th>Payment Mode</th>\n",
       "      <th>Bank Name</th>\n",
       "      <th>% Profit Margin</th>\n",
       "      <th>% Operating Cost</th>\n",
       "      <th>% Product Cost</th>\n",
       "      <th>Profit Margin</th>\n",
       "      <th>Operating Cost</th>\n",
       "      <th>Product Cost</th>\n",
       "    </tr>\n",
       "  </thead>\n",
       "  <tbody>\n",
       "    <tr>\n",
       "      <th>50444</th>\n",
       "      <td>GSW01535</td>\n",
       "      <td>2019-12-30</td>\n",
       "      <td>2019</td>\n",
       "      <td>12</td>\n",
       "      <td>10:01:32.657000</td>\n",
       "      <td>9840124138</td>\n",
       "      <td>MIDSG0150</td>\n",
       "      <td>41</td>\n",
       "      <td>62</td>\n",
       "      <td>Female</td>\n",
       "      <td>...</td>\n",
       "      <td>0.07</td>\n",
       "      <td>14.999688</td>\n",
       "      <td>Card</td>\n",
       "      <td>BDO Unibank</td>\n",
       "      <td>0.109</td>\n",
       "      <td>0.15</td>\n",
       "      <td>0.741</td>\n",
       "      <td>0.43273</td>\n",
       "      <td>0.5955</td>\n",
       "      <td>2.94177</td>\n",
       "    </tr>\n",
       "    <tr>\n",
       "      <th>50445</th>\n",
       "      <td>GSW01535</td>\n",
       "      <td>2019-12-30</td>\n",
       "      <td>2019</td>\n",
       "      <td>12</td>\n",
       "      <td>10:01:32.657000</td>\n",
       "      <td>9840124138</td>\n",
       "      <td>MIDSG0150</td>\n",
       "      <td>41</td>\n",
       "      <td>62</td>\n",
       "      <td>Female</td>\n",
       "      <td>...</td>\n",
       "      <td>0.07</td>\n",
       "      <td>14.999688</td>\n",
       "      <td>Card</td>\n",
       "      <td>BDO Unibank</td>\n",
       "      <td>0.148</td>\n",
       "      <td>0.15</td>\n",
       "      <td>0.702</td>\n",
       "      <td>0.60680</td>\n",
       "      <td>0.6150</td>\n",
       "      <td>2.87820</td>\n",
       "    </tr>\n",
       "    <tr>\n",
       "      <th>50446</th>\n",
       "      <td>GSW01535</td>\n",
       "      <td>2019-12-30</td>\n",
       "      <td>2019</td>\n",
       "      <td>12</td>\n",
       "      <td>10:01:32.657000</td>\n",
       "      <td>9840124138</td>\n",
       "      <td>MIDSG0150</td>\n",
       "      <td>42</td>\n",
       "      <td>62</td>\n",
       "      <td>Female</td>\n",
       "      <td>...</td>\n",
       "      <td>0.07</td>\n",
       "      <td>14.999688</td>\n",
       "      <td>Card</td>\n",
       "      <td>BDO Unibank</td>\n",
       "      <td>0.107</td>\n",
       "      <td>0.15</td>\n",
       "      <td>0.743</td>\n",
       "      <td>0.65163</td>\n",
       "      <td>0.9135</td>\n",
       "      <td>4.52487</td>\n",
       "    </tr>\n",
       "  </tbody>\n",
       "</table>\n",
       "<p>3 rows × 32 columns</p>\n",
       "</div>"
      ],
      "text/plain": [
       "      Receipt Number       Date  Year  Month             Time  Mobile Number  \\\n",
       "50444       GSW01535 2019-12-30  2019     12  10:01:32.657000     9840124138   \n",
       "50445       GSW01535 2019-12-30  2019     12  10:01:32.657000     9840124138   \n",
       "50446       GSW01535 2019-12-30  2019     12  10:01:32.657000     9840124138   \n",
       "\n",
       "      Membership ID  Loyalty Card Points  Age  Gender  ...   GST  \\\n",
       "50444     MIDSG0150                   41   62  Female  ...  0.07   \n",
       "50445     MIDSG0150                   41   62  Female  ...  0.07   \n",
       "50446     MIDSG0150                   42   62  Female  ...  0.07   \n",
       "\n",
       "      Gross Bill Amount Payment Mode    Bank Name % Profit Margin  \\\n",
       "50444         14.999688         Card  BDO Unibank           0.109   \n",
       "50445         14.999688         Card  BDO Unibank           0.148   \n",
       "50446         14.999688         Card  BDO Unibank           0.107   \n",
       "\n",
       "      % Operating Cost % Product Cost  Profit Margin  Operating Cost  \\\n",
       "50444             0.15          0.741        0.43273          0.5955   \n",
       "50445             0.15          0.702        0.60680          0.6150   \n",
       "50446             0.15          0.743        0.65163          0.9135   \n",
       "\n",
       "       Product Cost  \n",
       "50444       2.94177  \n",
       "50445       2.87820  \n",
       "50446       4.52487  \n",
       "\n",
       "[3 rows x 32 columns]"
      ]
     },
     "metadata": {},
     "output_type": "display_data"
    }
   ],
   "source": [
    "display(df_grosto[:3], df_grosto[-3:])"
   ]
  },
  {
   "cell_type": "code",
   "execution_count": 6,
   "id": "8a8c2717",
   "metadata": {},
   "outputs": [],
   "source": [
    "# Зміна ліміту кількості відображення колонок та рядків для зручності перегляду\n",
    "\n",
    "pd.set_option('display.max_columns', 50)\n",
    "pd.set_option('display.max_rows', 500)"
   ]
  },
  {
   "cell_type": "code",
   "execution_count": 7,
   "id": "613a14a6",
   "metadata": {},
   "outputs": [
    {
     "data": {
      "text/plain": [
       "Receipt Number                 object\n",
       "Date                   datetime64[ns]\n",
       "Year                            int64\n",
       "Month                           int64\n",
       "Time                           object\n",
       "Mobile Number                   int64\n",
       "Membership ID                  object\n",
       "Loyalty Card Points             int64\n",
       "Age                             int64\n",
       "Gender                         object\n",
       "City                           object\n",
       "Country                        object\n",
       "Category                       object\n",
       "Sub_Category                   object\n",
       "Items                          object\n",
       "Brand                          object\n",
       "Description                    object\n",
       "Price                         float64\n",
       "QTY                             int64\n",
       "DISC                          float64\n",
       "Amount                        float64\n",
       "Net Bill Amount               float64\n",
       "GST                           float64\n",
       "Gross Bill Amount             float64\n",
       "Payment Mode                   object\n",
       "Bank Name                      object\n",
       "% Profit Margin               float64\n",
       "% Operating Cost              float64\n",
       "% Product Cost                float64\n",
       "Profit Margin                 float64\n",
       "Operating Cost                float64\n",
       "Product Cost                  float64\n",
       "dtype: object"
      ]
     },
     "execution_count": 7,
     "metadata": {},
     "output_type": "execute_result"
    }
   ],
   "source": [
    "# Огляд типів даних колонок\n",
    "\n",
    "df_grosto.dtypes"
   ]
  },
  {
   "cell_type": "markdown",
   "id": "0dec338d",
   "metadata": {},
   "source": [
    "Більшість колонок мають відповідний тип даних. Колонку Mobile Number варто перетворити на тип даних str, оскільки по ній не потрібні калькуляції, а також може бути потрібно змінити формати написання номера. Але оскільки попередньо не планую використовувати її в аналізі, лишаю без змін. Вміст даних колонки Time не є зручним для аналізу, тож варто створиту додаткову колонку з виділенням лише години покупки з типом даних int. "
   ]
  },
  {
   "cell_type": "code",
   "execution_count": 8,
   "id": "33bf6b09",
   "metadata": {},
   "outputs": [
    {
     "data": {
      "text/plain": [
       "Receipt Number         0\n",
       "Date                   0\n",
       "Year                   0\n",
       "Month                  0\n",
       "Time                   0\n",
       "Mobile Number          0\n",
       "Membership ID          0\n",
       "Loyalty Card Points    0\n",
       "Age                    0\n",
       "Gender                 0\n",
       "City                   0\n",
       "Country                0\n",
       "Category               0\n",
       "Sub_Category           0\n",
       "Items                  0\n",
       "Brand                  0\n",
       "Description            0\n",
       "Price                  0\n",
       "QTY                    0\n",
       "DISC                   0\n",
       "Amount                 0\n",
       "Net Bill Amount        0\n",
       "GST                    0\n",
       "Gross Bill Amount      0\n",
       "Payment Mode           0\n",
       "Bank Name              0\n",
       "% Profit Margin        0\n",
       "% Operating Cost       0\n",
       "% Product Cost         0\n",
       "Profit Margin          0\n",
       "Operating Cost         0\n",
       "Product Cost           0\n",
       "dtype: int64"
      ]
     },
     "execution_count": 8,
     "metadata": {},
     "output_type": "execute_result"
    }
   ],
   "source": [
    "# Перевірка кількості пропущених значень\n",
    "\n",
    "df_grosto.isna().sum()"
   ]
  },
  {
   "cell_type": "markdown",
   "id": "87ebdcb3",
   "metadata": {},
   "source": [
    "Пропущені дані відстутні"
   ]
  },
  {
   "cell_type": "code",
   "execution_count": 9,
   "id": "c8658d37",
   "metadata": {},
   "outputs": [
    {
     "name": "stdout",
     "output_type": "stream",
     "text": [
      "В датафреймі знайдено 1 дублікат(и)\n"
     ]
    }
   ],
   "source": [
    "#Перевірка кількості дублікатів в датафреймі\n",
    "\n",
    "print(f'В датафреймі знайдено {df_grosto.duplicated().sum()} дублікат(и)')"
   ]
  },
  {
   "cell_type": "code",
   "execution_count": 10,
   "id": "54c5c3a8",
   "metadata": {},
   "outputs": [],
   "source": [
    "# Створення глибокої копії даних для подальших трансформацій\n",
    "\n",
    "df = df_grosto.copy(deep=True)"
   ]
  },
  {
   "cell_type": "code",
   "execution_count": 11,
   "id": "ac30e443",
   "metadata": {},
   "outputs": [],
   "source": [
    "# Видалення дублікатів\n",
    "\n",
    "df.drop_duplicates(inplace=True)"
   ]
  },
  {
   "cell_type": "code",
   "execution_count": 12,
   "id": "c41a7d84",
   "metadata": {},
   "outputs": [
    {
     "data": {
      "text/plain": [
       "Index(['Receipt Number', 'Date', 'Year', 'Month', 'Time', 'Mobile Number',\n",
       "       'Membership ID', 'Loyalty Card Points', 'Age', 'Gender', 'City',\n",
       "       'Country', 'Category', 'Sub_Category', 'Items', 'Brand ',\n",
       "       'Description ', 'Price', 'QTY', 'DISC', 'Amount', 'Net Bill Amount',\n",
       "       'GST', 'Gross Bill Amount', 'Payment Mode', 'Bank Name',\n",
       "       '% Profit Margin', '% Operating Cost', '% Product Cost',\n",
       "       'Profit Margin', 'Operating Cost', 'Product Cost'],\n",
       "      dtype='object')"
      ]
     },
     "execution_count": 12,
     "metadata": {},
     "output_type": "execute_result"
    }
   ],
   "source": [
    "# Переіменування колонок для зручності написання коду\n",
    "\n",
    "df.columns"
   ]
  },
  {
   "cell_type": "code",
   "execution_count": 13,
   "id": "ae492c90",
   "metadata": {},
   "outputs": [],
   "source": [
    "df.rename(columns={\n",
    "    'Receipt Number': 'receipt_number',\n",
    "    'Date': 'date',\n",
    "    'Year': 'year',\n",
    "    'Month': 'month',\n",
    "    'Time': 'time',\n",
    "    'Mobile Number': 'mobile_number',\n",
    "    'Membership ID': 'membership_id',\n",
    "    'Loyalty Card Points': 'loyalty_card_points',\n",
    "    'Age': 'age',\n",
    "    'Gender': 'gender',\n",
    "    'City': 'city',\n",
    "    'Country': 'country',\n",
    "    'Category': 'category',\n",
    "    'Sub_Category': 'sub_category',\n",
    "    'Items': 'items',\n",
    "    'Brand ': 'brand',\n",
    "    'Description ': 'description',\n",
    "    'Price': 'price',\n",
    "    'QTY': 'quantity',\n",
    "    'DISC': 'discount',\n",
    "    'Amount': 'amount',\n",
    "    'Net Bill Amount': 'net_bill_amount',\n",
    "    'GST': 'gst',\n",
    "    'Gross Bill Amount': 'gross_bill_amount',\n",
    "    'Payment Mode': 'payment_mode',\n",
    "    'Bank Name': 'bank_name',\n",
    "    '% Profit Margin': 'percent_profit_margin',\n",
    "    '% Operating Cost': 'percent_operating_cost',\n",
    "    '% Product Cost': 'percent_product_cost',\n",
    "    'Profit Margin': 'profit_margin',\n",
    "    'Operating Cost': 'operating_cost',\n",
    "    'Product Cost': 'product_cost'\n",
    "}, inplace=True)\n"
   ]
  },
  {
   "cell_type": "code",
   "execution_count": 14,
   "id": "8a244eed",
   "metadata": {},
   "outputs": [
    {
     "data": {
      "text/html": [
       "<div>\n",
       "<style scoped>\n",
       "    .dataframe tbody tr th:only-of-type {\n",
       "        vertical-align: middle;\n",
       "    }\n",
       "\n",
       "    .dataframe tbody tr th {\n",
       "        vertical-align: top;\n",
       "    }\n",
       "\n",
       "    .dataframe thead th {\n",
       "        text-align: right;\n",
       "    }\n",
       "</style>\n",
       "<table border=\"1\" class=\"dataframe\">\n",
       "  <thead>\n",
       "    <tr style=\"text-align: right;\">\n",
       "      <th></th>\n",
       "      <th>receipt_number</th>\n",
       "      <th>date</th>\n",
       "      <th>year</th>\n",
       "      <th>month</th>\n",
       "      <th>time</th>\n",
       "      <th>mobile_number</th>\n",
       "      <th>membership_id</th>\n",
       "      <th>loyalty_card_points</th>\n",
       "      <th>age</th>\n",
       "      <th>gender</th>\n",
       "      <th>city</th>\n",
       "      <th>country</th>\n",
       "      <th>category</th>\n",
       "      <th>sub_category</th>\n",
       "      <th>items</th>\n",
       "      <th>brand</th>\n",
       "      <th>description</th>\n",
       "      <th>price</th>\n",
       "      <th>quantity</th>\n",
       "      <th>discount</th>\n",
       "      <th>amount</th>\n",
       "      <th>net_bill_amount</th>\n",
       "      <th>gst</th>\n",
       "      <th>gross_bill_amount</th>\n",
       "      <th>payment_mode</th>\n",
       "      <th>bank_name</th>\n",
       "      <th>percent_profit_margin</th>\n",
       "      <th>percent_operating_cost</th>\n",
       "      <th>percent_product_cost</th>\n",
       "      <th>profit_margin</th>\n",
       "      <th>operating_cost</th>\n",
       "      <th>product_cost</th>\n",
       "    </tr>\n",
       "  </thead>\n",
       "  <tbody>\n",
       "    <tr>\n",
       "      <th>0</th>\n",
       "      <td>GIJ00001</td>\n",
       "      <td>2016-01-02</td>\n",
       "      <td>2016</td>\n",
       "      <td>1</td>\n",
       "      <td>10:08:03.260000</td>\n",
       "      <td>9793548581</td>\n",
       "      <td>MIDID0001</td>\n",
       "      <td>1</td>\n",
       "      <td>36</td>\n",
       "      <td>Male</td>\n",
       "      <td>Jakarta</td>\n",
       "      <td>Indonesia</td>\n",
       "      <td>Choco, Snacks, Sweets</td>\n",
       "      <td>Biscuits &amp; Crackers</td>\n",
       "      <td>Oreo mini oreo sharepack</td>\n",
       "      <td>Oreo</td>\n",
       "      <td>540 g</td>\n",
       "      <td>3.09</td>\n",
       "      <td>4</td>\n",
       "      <td>0.02</td>\n",
       "      <td>12.1128</td>\n",
       "      <td>12.1128</td>\n",
       "      <td>0.1</td>\n",
       "      <td>13.32408</td>\n",
       "      <td>Card</td>\n",
       "      <td>Enterprise Bank</td>\n",
       "      <td>0.150</td>\n",
       "      <td>0.15</td>\n",
       "      <td>0.700</td>\n",
       "      <td>1.85400</td>\n",
       "      <td>1.8540</td>\n",
       "      <td>8.65200</td>\n",
       "    </tr>\n",
       "    <tr>\n",
       "      <th>1</th>\n",
       "      <td>GIJ00002</td>\n",
       "      <td>2016-01-02</td>\n",
       "      <td>2016</td>\n",
       "      <td>1</td>\n",
       "      <td>15:46:50.832000</td>\n",
       "      <td>9938441276</td>\n",
       "      <td>MIDID0002</td>\n",
       "      <td>2</td>\n",
       "      <td>54</td>\n",
       "      <td>Male</td>\n",
       "      <td>Jakarta</td>\n",
       "      <td>Indonesia</td>\n",
       "      <td>Wines, Beers &amp; Spirits</td>\n",
       "      <td>Beer</td>\n",
       "      <td>Ashai Lager Beer</td>\n",
       "      <td>Ashai</td>\n",
       "      <td>480 ml</td>\n",
       "      <td>11.60</td>\n",
       "      <td>2</td>\n",
       "      <td>0.01</td>\n",
       "      <td>22.9680</td>\n",
       "      <td>22.9680</td>\n",
       "      <td>0.1</td>\n",
       "      <td>25.26480</td>\n",
       "      <td>Card</td>\n",
       "      <td>Philippine Veterans Bank</td>\n",
       "      <td>0.118</td>\n",
       "      <td>0.15</td>\n",
       "      <td>0.732</td>\n",
       "      <td>2.73760</td>\n",
       "      <td>3.4800</td>\n",
       "      <td>16.98240</td>\n",
       "    </tr>\n",
       "    <tr>\n",
       "      <th>2</th>\n",
       "      <td>GIJ00003</td>\n",
       "      <td>2016-01-02</td>\n",
       "      <td>2016</td>\n",
       "      <td>1</td>\n",
       "      <td>11:28:52.166000</td>\n",
       "      <td>9976742552</td>\n",
       "      <td>MIDID0003</td>\n",
       "      <td>1</td>\n",
       "      <td>16</td>\n",
       "      <td>Female</td>\n",
       "      <td>Jakarta</td>\n",
       "      <td>Indonesia</td>\n",
       "      <td>Fruit &amp; Vegetable</td>\n",
       "      <td>Frozen Fruits</td>\n",
       "      <td>Cascadian farm organic strawberries</td>\n",
       "      <td>Cascadiam Farm</td>\n",
       "      <td>1 Kg</td>\n",
       "      <td>13.31</td>\n",
       "      <td>1</td>\n",
       "      <td>0.01</td>\n",
       "      <td>13.1769</td>\n",
       "      <td>38.3526</td>\n",
       "      <td>0.1</td>\n",
       "      <td>42.18786</td>\n",
       "      <td>Cash</td>\n",
       "      <td>BDO Unibank</td>\n",
       "      <td>0.147</td>\n",
       "      <td>0.15</td>\n",
       "      <td>0.703</td>\n",
       "      <td>1.95657</td>\n",
       "      <td>1.9965</td>\n",
       "      <td>9.35693</td>\n",
       "    </tr>\n",
       "  </tbody>\n",
       "</table>\n",
       "</div>"
      ],
      "text/plain": [
       "  receipt_number       date  year  month             time  mobile_number  \\\n",
       "0       GIJ00001 2016-01-02  2016      1  10:08:03.260000     9793548581   \n",
       "1       GIJ00002 2016-01-02  2016      1  15:46:50.832000     9938441276   \n",
       "2       GIJ00003 2016-01-02  2016      1  11:28:52.166000     9976742552   \n",
       "\n",
       "  membership_id  loyalty_card_points  age  gender     city    country  \\\n",
       "0     MIDID0001                    1   36    Male  Jakarta  Indonesia   \n",
       "1     MIDID0002                    2   54    Male  Jakarta  Indonesia   \n",
       "2     MIDID0003                    1   16  Female  Jakarta  Indonesia   \n",
       "\n",
       "                 category         sub_category  \\\n",
       "0   Choco, Snacks, Sweets  Biscuits & Crackers   \n",
       "1  Wines, Beers & Spirits                 Beer   \n",
       "2       Fruit & Vegetable        Frozen Fruits   \n",
       "\n",
       "                                 items           brand description  price  \\\n",
       "0             Oreo mini oreo sharepack            Oreo       540 g   3.09   \n",
       "1                     Ashai Lager Beer           Ashai      480 ml  11.60   \n",
       "2  Cascadian farm organic strawberries  Cascadiam Farm        1 Kg  13.31   \n",
       "\n",
       "   quantity  discount   amount  net_bill_amount  gst  gross_bill_amount  \\\n",
       "0         4      0.02  12.1128          12.1128  0.1           13.32408   \n",
       "1         2      0.01  22.9680          22.9680  0.1           25.26480   \n",
       "2         1      0.01  13.1769          38.3526  0.1           42.18786   \n",
       "\n",
       "  payment_mode                 bank_name  percent_profit_margin  \\\n",
       "0         Card           Enterprise Bank                  0.150   \n",
       "1         Card  Philippine Veterans Bank                  0.118   \n",
       "2         Cash               BDO Unibank                  0.147   \n",
       "\n",
       "   percent_operating_cost  percent_product_cost  profit_margin  \\\n",
       "0                    0.15                 0.700        1.85400   \n",
       "1                    0.15                 0.732        2.73760   \n",
       "2                    0.15                 0.703        1.95657   \n",
       "\n",
       "   operating_cost  product_cost  \n",
       "0          1.8540       8.65200  \n",
       "1          3.4800      16.98240  \n",
       "2          1.9965       9.35693  "
      ]
     },
     "execution_count": 14,
     "metadata": {},
     "output_type": "execute_result"
    }
   ],
   "source": [
    "df.head(3)"
   ]
  },
  {
   "cell_type": "code",
   "execution_count": 15,
   "id": "26d76506",
   "metadata": {},
   "outputs": [
    {
     "name": "stdout",
     "output_type": "stream",
     "text": [
      "Унікальні значення у стовпці 'gender':\n",
      "['Female', 'Male']\n",
      "\n",
      "Унікальні значення у стовпці 'category':\n",
      "['Bakery & Breakfast', 'Beauty', 'Beverages', 'Choco, Snacks, Sweets', 'Dairy, Chilled & Eggs', 'Frozen', 'Fruit & Vegetable', 'Health', 'Household', 'Kitchen & Dining', 'Meat & Seafood', 'Mother & Baby', 'Party Supplies', 'Pet Care', 'Rice & Cooking Essentials', 'Wines, Beers & Spirits']\n",
      "\n",
      "Унікальні значення у стовпці 'sub_category':\n",
      "['Adult Diapers & Incontinence', 'Air Care', 'BBQ Supplies', 'Baby & Toddler Food', 'Baby Laundry & Cleaning', 'Baby Toiletries', 'Baby Wipes', 'Bath & Body', 'Beer', 'Berries', 'Biscuits & Crackers', 'Bread & Pasteries', 'Butter & Margarine', 'Cat Food & Treat', 'Cereal & Protein Bars', 'Champagne & Spakling Wine', 'Chilled Juices & Drinks', 'Chocolate, Malt & Hot Cereals', 'Cider', 'Cleaning Supplies', 'Deli & Cooked Meat', 'Dishwashing', 'Disposable Tableware', 'Dog Food & Trat', 'Eggs', 'Feeding & Nursing', 'Fresh Bread', 'Fresh Fruit', 'Fresh Meat', 'Fresh Milk', 'Fresh Seafood', 'Fresh Vegetables', 'Frozen Fruits', 'Frozen Meat', 'Frozen Seafood', 'Frozen Vegetables', 'Home Baking & Sugar', 'Ice Cream', 'Iced Tea', 'Jams, Honey & Spreads', 'Juices & Coconut Water', 'Kitchen Supplies', 'Laundry', 'Lettuce & Salads', 'Litter & Toilet', 'Medical Supplies', 'Milk Formula', 'Mints', 'Mushrooms', 'Noodles & Vermicelli', 'Nuts, Peas & Seeds', 'Oatmeals', 'Oral Care', 'Over The Counter Medications', 'Paper', 'Pasta', 'Pastries & Treats', 'Pet Food', 'Red Wine', 'Rice', 'Rose & Dessert Wine', 'Salt & Seasoning', 'Sliced Bread', 'Sports & Energy drinks', 'Sports Nutrition', 'Tea', 'Vitamins & Suppliments', 'White wine', 'cheese', 'chocolate', 'coffee', 'oil', 'skin care', 'snacks', 'sweets']\n",
      "\n",
      "Унікальні значення у стовпці 'payment_mode':\n",
      "['Card', 'Cash', 'Wallet']\n",
      "\n",
      "Унікальні значення у стовпці 'bank_name':\n",
      "['ALLIANCE Bank', 'Affin Bank', 'Agrobank', 'BDO Unibank', 'Bank Central Asia', 'Bank Rakhyat', 'Cash', 'Deutsche Bank', 'Enterprise Bank', 'ING Bank', 'Philippine National bank', 'Philippine Veterans Bank', 'Philtrust Bank', 'Robinsons Bank']\n",
      "\n",
      "Унікальні значення у стовпці 'country':\n",
      "['Indonesia', 'Malaysia', 'Philippines', 'Singapore']\n",
      "\n",
      "Унікальні значення у стовпці 'city':\n",
      "['Bedok', 'Jakarta', 'Kuala Lumpur', 'Manila', 'Woodlands']\n",
      "\n"
     ]
    }
   ],
   "source": [
    "# Огляд унікальних значень колонок, які мають обмежений набір повторюваних значень\n",
    "\n",
    "for column in ['gender', 'category', 'sub_category', 'payment_mode', 'bank_name', 'country', 'city' ]:\n",
    "    unique_values = sorted(df[column].unique())\n",
    "    print(f\"Унікальні значення у стовпці '{column}':\")\n",
    "    print(unique_values)\n",
    "    print()"
   ]
  },
  {
   "cell_type": "markdown",
   "id": "4babecc0",
   "metadata": {},
   "source": [
    "При огляді даних значень колонок не виявлено розрізненності в написанні одних і тих самих значень. \n",
    "Помітно, що магазин предствлений у 4-х країнах та 5-и містах, тобто є країна в якій є два магизини компанії. \n",
    "Поглянемо на приналежність міст до країни:"
   ]
  },
  {
   "cell_type": "code",
   "execution_count": 16,
   "id": "0b8dc713",
   "metadata": {},
   "outputs": [
    {
     "data": {
      "text/plain": [
       "country\n",
       "Indonesia               [Jakarta]\n",
       "Malaysia           [Kuala Lumpur]\n",
       "Philippines              [Manila]\n",
       "Singapore      [Bedok, Woodlands]\n",
       "Name: city, dtype: object"
      ]
     },
     "metadata": {},
     "output_type": "display_data"
    }
   ],
   "source": [
    "display(df.groupby('country')['city'].unique())"
   ]
  },
  {
   "cell_type": "markdown",
   "id": "13879218",
   "metadata": {},
   "source": [
    "В Сінгапурі магазин(и) представлені в двох містах, в Індонезії, Малазії та Філіпінах - в одному. Варто це враховувати в подальшому представленні деяких результатів аналізу."
   ]
  },
  {
   "cell_type": "markdown",
   "id": "52d3649a",
   "metadata": {},
   "source": [
    "#### Зміна типу даних та створення нових колонок"
   ]
  },
  {
   "cell_type": "code",
   "execution_count": 17,
   "id": "4912aa45",
   "metadata": {},
   "outputs": [],
   "source": [
    "# створення колонки з зазначенням міста та країни\n",
    "\n",
    "df['city_country'] = df[['city', 'country']].agg(', '.join, axis=1)"
   ]
  },
  {
   "cell_type": "code",
   "execution_count": 18,
   "id": "612522d5",
   "metadata": {},
   "outputs": [],
   "source": [
    "# створення колонки з категоріями клієнтів за віком \n",
    "\n",
    "age_group_names = ['up to 25 years', '26 - 35 years',\n",
    "                      '36 - 45 years', '46 - 55 years', \n",
    "                      '56 - 65 years', '66 + years' ]\n",
    "\n",
    "ranges = [0, 25, 35, 45, 55, 65, np.inf]"
   ]
  },
  {
   "cell_type": "code",
   "execution_count": 19,
   "id": "ba81010a",
   "metadata": {},
   "outputs": [],
   "source": [
    "df['age_group'] = pd.cut(df['age'], bins = ranges, labels = age_group_names)"
   ]
  },
  {
   "cell_type": "code",
   "execution_count": 20,
   "id": "1867c794",
   "metadata": {},
   "outputs": [],
   "source": [
    "# перетворення колонок з обмеженим набором повторюваних значень на категоріальний тип\n",
    "\n",
    "for col in ['gender', 'category', 'payment_mode', 'bank_name', 'city_country']:\n",
    "    df[col] = pd.Categorical(df[col])"
   ]
  },
  {
   "cell_type": "code",
   "execution_count": 21,
   "id": "a2ee908c",
   "metadata": {},
   "outputs": [],
   "source": [
    "# створення нової колонки з виділенням години відвідування та перетворення типу даних з str на int\n",
    "\n",
    "df['time'] = df['time'].astype(str)\n",
    "df['hour'] = df['time'].str.slice(stop=2).astype(int)\n"
   ]
  },
  {
   "cell_type": "code",
   "execution_count": 22,
   "id": "b0097e40",
   "metadata": {},
   "outputs": [
    {
     "data": {
      "text/html": [
       "<div>\n",
       "<style scoped>\n",
       "    .dataframe tbody tr th:only-of-type {\n",
       "        vertical-align: middle;\n",
       "    }\n",
       "\n",
       "    .dataframe tbody tr th {\n",
       "        vertical-align: top;\n",
       "    }\n",
       "\n",
       "    .dataframe thead th {\n",
       "        text-align: right;\n",
       "    }\n",
       "</style>\n",
       "<table border=\"1\" class=\"dataframe\">\n",
       "  <thead>\n",
       "    <tr style=\"text-align: right;\">\n",
       "      <th></th>\n",
       "      <th>price</th>\n",
       "      <th>quantity</th>\n",
       "      <th>amount</th>\n",
       "      <th>discount</th>\n",
       "      <th>net_bill_amount</th>\n",
       "      <th>gross_bill_amount</th>\n",
       "      <th>gst</th>\n",
       "    </tr>\n",
       "  </thead>\n",
       "  <tbody>\n",
       "    <tr>\n",
       "      <th>2</th>\n",
       "      <td>13.31</td>\n",
       "      <td>1</td>\n",
       "      <td>13.1769</td>\n",
       "      <td>0.01</td>\n",
       "      <td>38.3526</td>\n",
       "      <td>42.18786</td>\n",
       "      <td>0.1</td>\n",
       "    </tr>\n",
       "    <tr>\n",
       "      <th>3</th>\n",
       "      <td>3.52</td>\n",
       "      <td>1</td>\n",
       "      <td>3.4848</td>\n",
       "      <td>0.01</td>\n",
       "      <td>38.3526</td>\n",
       "      <td>42.18786</td>\n",
       "      <td>0.1</td>\n",
       "    </tr>\n",
       "    <tr>\n",
       "      <th>4</th>\n",
       "      <td>4.41</td>\n",
       "      <td>1</td>\n",
       "      <td>4.3659</td>\n",
       "      <td>0.01</td>\n",
       "      <td>38.3526</td>\n",
       "      <td>42.18786</td>\n",
       "      <td>0.1</td>\n",
       "    </tr>\n",
       "    <tr>\n",
       "      <th>5</th>\n",
       "      <td>2.81</td>\n",
       "      <td>1</td>\n",
       "      <td>2.7819</td>\n",
       "      <td>0.01</td>\n",
       "      <td>38.3526</td>\n",
       "      <td>42.18786</td>\n",
       "      <td>0.1</td>\n",
       "    </tr>\n",
       "    <tr>\n",
       "      <th>6</th>\n",
       "      <td>3.28</td>\n",
       "      <td>1</td>\n",
       "      <td>3.2472</td>\n",
       "      <td>0.01</td>\n",
       "      <td>38.3526</td>\n",
       "      <td>42.18786</td>\n",
       "      <td>0.1</td>\n",
       "    </tr>\n",
       "    <tr>\n",
       "      <th>7</th>\n",
       "      <td>3.75</td>\n",
       "      <td>1</td>\n",
       "      <td>3.7125</td>\n",
       "      <td>0.01</td>\n",
       "      <td>38.3526</td>\n",
       "      <td>42.18786</td>\n",
       "      <td>0.1</td>\n",
       "    </tr>\n",
       "  </tbody>\n",
       "</table>\n",
       "</div>"
      ],
      "text/plain": [
       "   price  quantity   amount  discount  net_bill_amount  gross_bill_amount  gst\n",
       "2  13.31         1  13.1769      0.01          38.3526           42.18786  0.1\n",
       "3   3.52         1   3.4848      0.01          38.3526           42.18786  0.1\n",
       "4   4.41         1   4.3659      0.01          38.3526           42.18786  0.1\n",
       "5   2.81         1   2.7819      0.01          38.3526           42.18786  0.1\n",
       "6   3.28         1   3.2472      0.01          38.3526           42.18786  0.1\n",
       "7   3.75         1   3.7125      0.01          38.3526           42.18786  0.1"
      ]
     },
     "execution_count": 22,
     "metadata": {},
     "output_type": "execute_result"
    }
   ],
   "source": [
    "# перевірка та перерахунок колонок 'amount', 'net_bill_amount', 'gross_bill_amount'\n",
    "# для наглядності візьмемо перший чек з помилковими розрахунками\n",
    "\n",
    "df_check_recipt = (\n",
    "    df[df['receipt_number'] == 'GIJ00003']\n",
    "    [['price', 'quantity', 'amount', 'discount', 'net_bill_amount', 'gross_bill_amount', 'gst']]\n",
    ")\n",
    "\n",
    "df_check_recipt"
   ]
  },
  {
   "cell_type": "code",
   "execution_count": 23,
   "id": "576a1544",
   "metadata": {},
   "outputs": [
    {
     "data": {
      "text/plain": [
       "30.769199999999998"
      ]
     },
     "execution_count": 23,
     "metadata": {},
     "output_type": "execute_result"
    }
   ],
   "source": [
    "df_check_recipt['amount'].sum()"
   ]
  },
  {
   "cell_type": "code",
   "execution_count": 24,
   "id": "fd3b159c",
   "metadata": {},
   "outputs": [
    {
     "data": {
      "text/plain": [
       "31.080000000000002"
      ]
     },
     "execution_count": 24,
     "metadata": {},
     "output_type": "execute_result"
    }
   ],
   "source": [
    "df_check_recipt['price'].sum()"
   ]
  },
  {
   "cell_type": "code",
   "execution_count": 25,
   "id": "2860cb8f",
   "metadata": {},
   "outputs": [
    {
     "data": {
      "text/html": [
       "<div>\n",
       "<style scoped>\n",
       "    .dataframe tbody tr th:only-of-type {\n",
       "        vertical-align: middle;\n",
       "    }\n",
       "\n",
       "    .dataframe tbody tr th {\n",
       "        vertical-align: top;\n",
       "    }\n",
       "\n",
       "    .dataframe thead th {\n",
       "        text-align: right;\n",
       "    }\n",
       "</style>\n",
       "<table border=\"1\" class=\"dataframe\">\n",
       "  <thead>\n",
       "    <tr style=\"text-align: right;\">\n",
       "      <th></th>\n",
       "      <th>receipt_number</th>\n",
       "      <th>date</th>\n",
       "      <th>year</th>\n",
       "      <th>month</th>\n",
       "      <th>time</th>\n",
       "      <th>mobile_number</th>\n",
       "      <th>membership_id</th>\n",
       "      <th>loyalty_card_points</th>\n",
       "      <th>age</th>\n",
       "      <th>gender</th>\n",
       "      <th>city</th>\n",
       "      <th>country</th>\n",
       "      <th>category</th>\n",
       "      <th>sub_category</th>\n",
       "      <th>items</th>\n",
       "      <th>brand</th>\n",
       "      <th>description</th>\n",
       "      <th>price</th>\n",
       "      <th>quantity</th>\n",
       "      <th>discount</th>\n",
       "      <th>amount</th>\n",
       "      <th>net_bill_amount</th>\n",
       "      <th>gst</th>\n",
       "      <th>gross_bill_amount</th>\n",
       "      <th>payment_mode</th>\n",
       "      <th>bank_name</th>\n",
       "      <th>percent_profit_margin</th>\n",
       "      <th>percent_operating_cost</th>\n",
       "      <th>percent_product_cost</th>\n",
       "      <th>profit_margin</th>\n",
       "      <th>operating_cost</th>\n",
       "      <th>product_cost</th>\n",
       "      <th>city_country</th>\n",
       "      <th>age_group</th>\n",
       "      <th>hour</th>\n",
       "    </tr>\n",
       "  </thead>\n",
       "  <tbody>\n",
       "  </tbody>\n",
       "</table>\n",
       "</div>"
      ],
      "text/plain": [
       "Empty DataFrame\n",
       "Columns: [receipt_number, date, year, month, time, mobile_number, membership_id, loyalty_card_points, age, gender, city, country, category, sub_category, items, brand, description, price, quantity, discount, amount, net_bill_amount, gst, gross_bill_amount, payment_mode, bank_name, percent_profit_margin, percent_operating_cost, percent_product_cost, profit_margin, operating_cost, product_cost, city_country, age_group, hour]\n",
       "Index: []"
      ]
     },
     "execution_count": 25,
     "metadata": {},
     "output_type": "execute_result"
    }
   ],
   "source": [
    "# перевірка чи пораховно вірно колонку 'amount'\n",
    "\n",
    "expected_amount = df['price'] * df['quantity'] * (1 - df['discount'])\n",
    "different_amount = df[np.abs(df['amount'] - expected_amount) > 0.0001]\n",
    "different_amount"
   ]
  },
  {
   "cell_type": "markdown",
   "id": "c21c5bd2",
   "metadata": {},
   "source": [
    "В ході огляду та перерахунку деяких чеків, виявлено, що в деяких з них невірно порахована колонка 'net_bill_amount' і як наслідок \n",
    "'gross_bill_amount'. Колонка 'amount' порахована вірно. Також можна виключити припущення, що помилка  в ненарахуванні дискаунту. Варто детальніше дослідити закономірності в невірно порахованих чеках, можливо помилка саме по одній з країн тощо."
   ]
  },
  {
   "cell_type": "code",
   "execution_count": 26,
   "id": "49b4b204",
   "metadata": {},
   "outputs": [],
   "source": [
    "# перерахунок колонок з некоректними значеннями та запис перерахованих значень у нові колонки\n",
    "\n",
    "df['net_bill_amount_correct'] = df.groupby('receipt_number')['amount'].transform('sum')\n",
    "df['gross_bill_amount_correct'] = df['net_bill_amount_correct'] + df['net_bill_amount_correct']*df['gst']"
   ]
  },
  {
   "cell_type": "code",
   "execution_count": 27,
   "id": "edfd618c",
   "metadata": {
    "scrolled": true
   },
   "outputs": [
    {
     "data": {
      "text/html": [
       "<div>\n",
       "<style scoped>\n",
       "    .dataframe tbody tr th:only-of-type {\n",
       "        vertical-align: middle;\n",
       "    }\n",
       "\n",
       "    .dataframe tbody tr th {\n",
       "        vertical-align: top;\n",
       "    }\n",
       "\n",
       "    .dataframe thead th {\n",
       "        text-align: right;\n",
       "    }\n",
       "</style>\n",
       "<table border=\"1\" class=\"dataframe\">\n",
       "  <thead>\n",
       "    <tr style=\"text-align: right;\">\n",
       "      <th></th>\n",
       "      <th>price</th>\n",
       "      <th>quantity</th>\n",
       "      <th>amount</th>\n",
       "      <th>discount</th>\n",
       "      <th>net_bill_amount</th>\n",
       "      <th>gross_bill_amount</th>\n",
       "      <th>gst</th>\n",
       "      <th>gross_bill_amount_correct</th>\n",
       "      <th>net_bill_amount_correct</th>\n",
       "    </tr>\n",
       "  </thead>\n",
       "  <tbody>\n",
       "    <tr>\n",
       "      <th>2</th>\n",
       "      <td>13.31</td>\n",
       "      <td>1</td>\n",
       "      <td>13.1769</td>\n",
       "      <td>0.01</td>\n",
       "      <td>38.3526</td>\n",
       "      <td>42.18786</td>\n",
       "      <td>0.1</td>\n",
       "      <td>33.84612</td>\n",
       "      <td>30.7692</td>\n",
       "    </tr>\n",
       "    <tr>\n",
       "      <th>3</th>\n",
       "      <td>3.52</td>\n",
       "      <td>1</td>\n",
       "      <td>3.4848</td>\n",
       "      <td>0.01</td>\n",
       "      <td>38.3526</td>\n",
       "      <td>42.18786</td>\n",
       "      <td>0.1</td>\n",
       "      <td>33.84612</td>\n",
       "      <td>30.7692</td>\n",
       "    </tr>\n",
       "    <tr>\n",
       "      <th>4</th>\n",
       "      <td>4.41</td>\n",
       "      <td>1</td>\n",
       "      <td>4.3659</td>\n",
       "      <td>0.01</td>\n",
       "      <td>38.3526</td>\n",
       "      <td>42.18786</td>\n",
       "      <td>0.1</td>\n",
       "      <td>33.84612</td>\n",
       "      <td>30.7692</td>\n",
       "    </tr>\n",
       "    <tr>\n",
       "      <th>5</th>\n",
       "      <td>2.81</td>\n",
       "      <td>1</td>\n",
       "      <td>2.7819</td>\n",
       "      <td>0.01</td>\n",
       "      <td>38.3526</td>\n",
       "      <td>42.18786</td>\n",
       "      <td>0.1</td>\n",
       "      <td>33.84612</td>\n",
       "      <td>30.7692</td>\n",
       "    </tr>\n",
       "    <tr>\n",
       "      <th>6</th>\n",
       "      <td>3.28</td>\n",
       "      <td>1</td>\n",
       "      <td>3.2472</td>\n",
       "      <td>0.01</td>\n",
       "      <td>38.3526</td>\n",
       "      <td>42.18786</td>\n",
       "      <td>0.1</td>\n",
       "      <td>33.84612</td>\n",
       "      <td>30.7692</td>\n",
       "    </tr>\n",
       "    <tr>\n",
       "      <th>7</th>\n",
       "      <td>3.75</td>\n",
       "      <td>1</td>\n",
       "      <td>3.7125</td>\n",
       "      <td>0.01</td>\n",
       "      <td>38.3526</td>\n",
       "      <td>42.18786</td>\n",
       "      <td>0.1</td>\n",
       "      <td>33.84612</td>\n",
       "      <td>30.7692</td>\n",
       "    </tr>\n",
       "  </tbody>\n",
       "</table>\n",
       "</div>"
      ],
      "text/plain": [
       "   price  quantity   amount  discount  net_bill_amount  gross_bill_amount  \\\n",
       "2  13.31         1  13.1769      0.01          38.3526           42.18786   \n",
       "3   3.52         1   3.4848      0.01          38.3526           42.18786   \n",
       "4   4.41         1   4.3659      0.01          38.3526           42.18786   \n",
       "5   2.81         1   2.7819      0.01          38.3526           42.18786   \n",
       "6   3.28         1   3.2472      0.01          38.3526           42.18786   \n",
       "7   3.75         1   3.7125      0.01          38.3526           42.18786   \n",
       "\n",
       "   gst  gross_bill_amount_correct  net_bill_amount_correct  \n",
       "2  0.1                   33.84612                  30.7692  \n",
       "3  0.1                   33.84612                  30.7692  \n",
       "4  0.1                   33.84612                  30.7692  \n",
       "5  0.1                   33.84612                  30.7692  \n",
       "6  0.1                   33.84612                  30.7692  \n",
       "7  0.1                   33.84612                  30.7692  "
      ]
     },
     "execution_count": 27,
     "metadata": {},
     "output_type": "execute_result"
    }
   ],
   "source": [
    "# чек з новими колонками з коректними значеннями\n",
    "\n",
    "df[df['receipt_number'] == 'GIJ00003'][['price', 'quantity', 'amount', 'discount', 'net_bill_amount', 'gross_bill_amount', 'gst', 'gross_bill_amount_correct', 'net_bill_amount_correct']]"
   ]
  },
  {
   "cell_type": "markdown",
   "id": "4aadf466",
   "metadata": {},
   "source": [
    "#### Перегляд статистичної інформації по колонкам з числовими значеннями"
   ]
  },
  {
   "cell_type": "code",
   "execution_count": 28,
   "id": "7e79269b",
   "metadata": {},
   "outputs": [],
   "source": [
    "# виключення числових колонок, по яким статистичні показники будуть неінформативні\n",
    "df_for_statistic = df.drop(['date', 'year', 'month', 'mobile_number'], axis=1)"
   ]
  },
  {
   "cell_type": "code",
   "execution_count": 29,
   "id": "cb7ecc26",
   "metadata": {},
   "outputs": [
    {
     "data": {
      "text/html": [
       "<div>\n",
       "<style scoped>\n",
       "    .dataframe tbody tr th:only-of-type {\n",
       "        vertical-align: middle;\n",
       "    }\n",
       "\n",
       "    .dataframe tbody tr th {\n",
       "        vertical-align: top;\n",
       "    }\n",
       "\n",
       "    .dataframe thead th {\n",
       "        text-align: right;\n",
       "    }\n",
       "</style>\n",
       "<table border=\"1\" class=\"dataframe\">\n",
       "  <thead>\n",
       "    <tr style=\"text-align: right;\">\n",
       "      <th></th>\n",
       "      <th>loyalty_card_points</th>\n",
       "      <th>age</th>\n",
       "      <th>price</th>\n",
       "      <th>quantity</th>\n",
       "      <th>discount</th>\n",
       "      <th>amount</th>\n",
       "      <th>net_bill_amount</th>\n",
       "      <th>gst</th>\n",
       "      <th>gross_bill_amount</th>\n",
       "      <th>percent_profit_margin</th>\n",
       "      <th>percent_operating_cost</th>\n",
       "      <th>percent_product_cost</th>\n",
       "      <th>profit_margin</th>\n",
       "      <th>operating_cost</th>\n",
       "      <th>product_cost</th>\n",
       "      <th>hour</th>\n",
       "      <th>net_bill_amount_correct</th>\n",
       "      <th>gross_bill_amount_correct</th>\n",
       "    </tr>\n",
       "  </thead>\n",
       "  <tbody>\n",
       "    <tr>\n",
       "      <th>count</th>\n",
       "      <td>50446.000000</td>\n",
       "      <td>50446.000000</td>\n",
       "      <td>50446.000000</td>\n",
       "      <td>50446.000000</td>\n",
       "      <td>50446.000000</td>\n",
       "      <td>50446.000000</td>\n",
       "      <td>50446.000000</td>\n",
       "      <td>50446.000000</td>\n",
       "      <td>50446.000000</td>\n",
       "      <td>50446.000000</td>\n",
       "      <td>5.044600e+04</td>\n",
       "      <td>50446.000000</td>\n",
       "      <td>50446.000000</td>\n",
       "      <td>50446.000000</td>\n",
       "      <td>50446.000000</td>\n",
       "      <td>50446.000000</td>\n",
       "      <td>50446.000000</td>\n",
       "      <td>50446.000000</td>\n",
       "    </tr>\n",
       "    <tr>\n",
       "      <th>mean</th>\n",
       "      <td>18.364588</td>\n",
       "      <td>35.801292</td>\n",
       "      <td>7.424249</td>\n",
       "      <td>1.548190</td>\n",
       "      <td>0.029938</td>\n",
       "      <td>11.168105</td>\n",
       "      <td>66.696378</td>\n",
       "      <td>0.085553</td>\n",
       "      <td>72.380184</td>\n",
       "      <td>0.105550</td>\n",
       "      <td>1.500000e-01</td>\n",
       "      <td>0.744450</td>\n",
       "      <td>1.201698</td>\n",
       "      <td>1.726873</td>\n",
       "      <td>8.583917</td>\n",
       "      <td>15.542263</td>\n",
       "      <td>63.919867</td>\n",
       "      <td>69.362525</td>\n",
       "    </tr>\n",
       "    <tr>\n",
       "      <th>std</th>\n",
       "      <td>16.161135</td>\n",
       "      <td>14.020092</td>\n",
       "      <td>4.753613</td>\n",
       "      <td>0.648463</td>\n",
       "      <td>0.014229</td>\n",
       "      <td>9.227197</td>\n",
       "      <td>45.269542</td>\n",
       "      <td>0.023568</td>\n",
       "      <td>49.093296</td>\n",
       "      <td>0.029403</td>\n",
       "      <td>1.321178e-13</td>\n",
       "      <td>0.029403</td>\n",
       "      <td>1.063549</td>\n",
       "      <td>1.426849</td>\n",
       "      <td>7.134986</td>\n",
       "      <td>3.456698</td>\n",
       "      <td>44.442011</td>\n",
       "      <td>48.187158</td>\n",
       "    </tr>\n",
       "    <tr>\n",
       "      <th>min</th>\n",
       "      <td>0.000000</td>\n",
       "      <td>15.000000</td>\n",
       "      <td>0.840000</td>\n",
       "      <td>1.000000</td>\n",
       "      <td>0.010000</td>\n",
       "      <td>0.798000</td>\n",
       "      <td>0.978500</td>\n",
       "      <td>0.060000</td>\n",
       "      <td>1.037210</td>\n",
       "      <td>0.051000</td>\n",
       "      <td>1.500000e-01</td>\n",
       "      <td>0.700000</td>\n",
       "      <td>0.067840</td>\n",
       "      <td>0.126000</td>\n",
       "      <td>0.609840</td>\n",
       "      <td>10.000000</td>\n",
       "      <td>0.978500</td>\n",
       "      <td>1.037210</td>\n",
       "    </tr>\n",
       "    <tr>\n",
       "      <th>25%</th>\n",
       "      <td>6.000000</td>\n",
       "      <td>23.000000</td>\n",
       "      <td>4.280000</td>\n",
       "      <td>1.000000</td>\n",
       "      <td>0.020000</td>\n",
       "      <td>5.214075</td>\n",
       "      <td>35.336700</td>\n",
       "      <td>0.070000</td>\n",
       "      <td>38.615940</td>\n",
       "      <td>0.083000</td>\n",
       "      <td>1.500000e-01</td>\n",
       "      <td>0.722000</td>\n",
       "      <td>0.545600</td>\n",
       "      <td>0.805500</td>\n",
       "      <td>4.082890</td>\n",
       "      <td>13.000000</td>\n",
       "      <td>33.158400</td>\n",
       "      <td>35.890368</td>\n",
       "    </tr>\n",
       "    <tr>\n",
       "      <th>50%</th>\n",
       "      <td>14.000000</td>\n",
       "      <td>35.000000</td>\n",
       "      <td>5.980000</td>\n",
       "      <td>2.000000</td>\n",
       "      <td>0.030000</td>\n",
       "      <td>8.632800</td>\n",
       "      <td>58.586500</td>\n",
       "      <td>0.070000</td>\n",
       "      <td>63.909120</td>\n",
       "      <td>0.109000</td>\n",
       "      <td>1.500000e-01</td>\n",
       "      <td>0.741000</td>\n",
       "      <td>0.928350</td>\n",
       "      <td>1.329000</td>\n",
       "      <td>6.649080</td>\n",
       "      <td>16.000000</td>\n",
       "      <td>54.390600</td>\n",
       "      <td>59.236056</td>\n",
       "    </tr>\n",
       "    <tr>\n",
       "      <th>75%</th>\n",
       "      <td>26.000000</td>\n",
       "      <td>47.000000</td>\n",
       "      <td>9.470000</td>\n",
       "      <td>2.000000</td>\n",
       "      <td>0.040000</td>\n",
       "      <td>14.016000</td>\n",
       "      <td>90.585000</td>\n",
       "      <td>0.100000</td>\n",
       "      <td>98.076440</td>\n",
       "      <td>0.128000</td>\n",
       "      <td>1.500000e-01</td>\n",
       "      <td>0.767000</td>\n",
       "      <td>1.505415</td>\n",
       "      <td>2.178000</td>\n",
       "      <td>10.828800</td>\n",
       "      <td>19.000000</td>\n",
       "      <td>85.516800</td>\n",
       "      <td>92.444576</td>\n",
       "    </tr>\n",
       "    <tr>\n",
       "      <th>max</th>\n",
       "      <td>116.000000</td>\n",
       "      <td>75.000000</td>\n",
       "      <td>40.330000</td>\n",
       "      <td>9.000000</td>\n",
       "      <td>0.050000</td>\n",
       "      <td>299.827200</td>\n",
       "      <td>527.668000</td>\n",
       "      <td>0.120000</td>\n",
       "      <td>559.328080</td>\n",
       "      <td>0.150000</td>\n",
       "      <td>1.500000e-01</td>\n",
       "      <td>0.799000</td>\n",
       "      <td>26.234880</td>\n",
       "      <td>46.848000</td>\n",
       "      <td>239.237120</td>\n",
       "      <td>21.000000</td>\n",
       "      <td>527.668000</td>\n",
       "      <td>559.328080</td>\n",
       "    </tr>\n",
       "  </tbody>\n",
       "</table>\n",
       "</div>"
      ],
      "text/plain": [
       "       loyalty_card_points           age         price      quantity  \\\n",
       "count         50446.000000  50446.000000  50446.000000  50446.000000   \n",
       "mean             18.364588     35.801292      7.424249      1.548190   \n",
       "std              16.161135     14.020092      4.753613      0.648463   \n",
       "min               0.000000     15.000000      0.840000      1.000000   \n",
       "25%               6.000000     23.000000      4.280000      1.000000   \n",
       "50%              14.000000     35.000000      5.980000      2.000000   \n",
       "75%              26.000000     47.000000      9.470000      2.000000   \n",
       "max             116.000000     75.000000     40.330000      9.000000   \n",
       "\n",
       "           discount        amount  net_bill_amount           gst  \\\n",
       "count  50446.000000  50446.000000     50446.000000  50446.000000   \n",
       "mean       0.029938     11.168105        66.696378      0.085553   \n",
       "std        0.014229      9.227197        45.269542      0.023568   \n",
       "min        0.010000      0.798000         0.978500      0.060000   \n",
       "25%        0.020000      5.214075        35.336700      0.070000   \n",
       "50%        0.030000      8.632800        58.586500      0.070000   \n",
       "75%        0.040000     14.016000        90.585000      0.100000   \n",
       "max        0.050000    299.827200       527.668000      0.120000   \n",
       "\n",
       "       gross_bill_amount  percent_profit_margin  percent_operating_cost  \\\n",
       "count       50446.000000           50446.000000            5.044600e+04   \n",
       "mean           72.380184               0.105550            1.500000e-01   \n",
       "std            49.093296               0.029403            1.321178e-13   \n",
       "min             1.037210               0.051000            1.500000e-01   \n",
       "25%            38.615940               0.083000            1.500000e-01   \n",
       "50%            63.909120               0.109000            1.500000e-01   \n",
       "75%            98.076440               0.128000            1.500000e-01   \n",
       "max           559.328080               0.150000            1.500000e-01   \n",
       "\n",
       "       percent_product_cost  profit_margin  operating_cost  product_cost  \\\n",
       "count          50446.000000   50446.000000    50446.000000  50446.000000   \n",
       "mean               0.744450       1.201698        1.726873      8.583917   \n",
       "std                0.029403       1.063549        1.426849      7.134986   \n",
       "min                0.700000       0.067840        0.126000      0.609840   \n",
       "25%                0.722000       0.545600        0.805500      4.082890   \n",
       "50%                0.741000       0.928350        1.329000      6.649080   \n",
       "75%                0.767000       1.505415        2.178000     10.828800   \n",
       "max                0.799000      26.234880       46.848000    239.237120   \n",
       "\n",
       "               hour  net_bill_amount_correct  gross_bill_amount_correct  \n",
       "count  50446.000000             50446.000000               50446.000000  \n",
       "mean      15.542263                63.919867                  69.362525  \n",
       "std        3.456698                44.442011                  48.187158  \n",
       "min       10.000000                 0.978500                   1.037210  \n",
       "25%       13.000000                33.158400                  35.890368  \n",
       "50%       16.000000                54.390600                  59.236056  \n",
       "75%       19.000000                85.516800                  92.444576  \n",
       "max       21.000000               527.668000                 559.328080  "
      ]
     },
     "execution_count": 29,
     "metadata": {},
     "output_type": "execute_result"
    }
   ],
   "source": [
    "df_for_statistic.describe()"
   ]
  },
  {
   "cell_type": "markdown",
   "id": "55a79c68",
   "metadata": {},
   "source": [
    "Бачимо великий розкид в значеннях пов'язаних з вартістю товарів та сумою покупок. Що вирогідно є типовою ситуацією для продажу товарів різноманітних категорій, фасування, цінової політики тощо."
   ]
  },
  {
   "cell_type": "markdown",
   "id": "26f637d3",
   "metadata": {},
   "source": [
    "## Аналіз"
   ]
  },
  {
   "cell_type": "markdown",
   "id": "e924736a",
   "metadata": {},
   "source": [
    "#### 1. Який загальний прибуток отримала компанія? Яка частка прибутку по кожному місту? "
   ]
  },
  {
   "cell_type": "code",
   "execution_count": 30,
   "id": "d54f7d36",
   "metadata": {},
   "outputs": [
    {
     "name": "stdout",
     "output_type": "stream",
     "text": [
      "Загальний прибуток - 60620.85\n"
     ]
    }
   ],
   "source": [
    "print(f'Загальний прибуток - {df[\"profit_margin\"].sum():.2f}')"
   ]
  },
  {
   "cell_type": "markdown",
   "id": "358f2df0",
   "metadata": {},
   "source": [
    "Прибуток компанії по країнам відсортований від найбільшого до найменшого:"
   ]
  },
  {
   "cell_type": "code",
   "execution_count": 31,
   "id": "7a186425",
   "metadata": {},
   "outputs": [
    {
     "data": {
      "text/plain": [
       "country\n",
       "Singapore      22138.51\n",
       "Philippines    14455.63\n",
       "Malaysia       12958.12\n",
       "Indonesia      11068.60\n",
       "Name: profit_margin, dtype: float64"
      ]
     },
     "execution_count": 31,
     "metadata": {},
     "output_type": "execute_result"
    }
   ],
   "source": [
    "df.groupby('country')['profit_margin'].sum().round(2).sort_values(ascending=False)"
   ]
  },
  {
   "cell_type": "code",
   "execution_count": 32,
   "id": "586069ea",
   "metadata": {},
   "outputs": [],
   "source": [
    "# визначення даних для зовнішнього та внутрішнього кільця графіку\n",
    "outer = df.groupby('country')['profit_margin'].sum()\n",
    "inner = df.groupby(['country', 'city'])['profit_margin'].sum()\n",
    "\n",
    "# визначення лейблів для внутрішнього кільця\n",
    "inner_labels = inner.index.get_level_values(1)"
   ]
  },
  {
   "cell_type": "code",
   "execution_count": 33,
   "id": "a1c568cf",
   "metadata": {},
   "outputs": [
    {
     "data": {
      "image/png": "[encoded data removed]",
      "text/plain": [
       "<Figure size 700x700 with 1 Axes>"
      ]
     },
     "metadata": {},
     "output_type": "display_data"
    }
   ],
   "source": [
    "fig, ax = plt.subplots(figsize=(7, 7))\n",
    "size = 0.4\n",
    "\n",
    "cmap = plt.colormaps['tab20c']\n",
    "outer_colors = cmap([4, 0, 8, 12])\n",
    "inner_colors = cmap([5, 1, 9, 13, 14])\n",
    "\n",
    "ax.pie(outer.values.flatten(), radius=1,\n",
    "       labels=outer.index,\n",
    "       #autopct='%1.1f%%',\n",
    "       colors=outer_colors,\n",
    "       wedgeprops=dict(width=size, edgecolor='w'))\n",
    "\n",
    "ax.pie(inner.values.flatten(), radius=1-size, \n",
    "       labels = inner_labels,\n",
    "       autopct='%1.1f%%',\n",
    "       colors=inner_colors,\n",
    "       wedgeprops=dict(width=size, edgecolor='w'))\n",
    "\n",
    "\n",
    "ax.set(aspect=\"equal\", title='Profit by city and country');"
   ]
  },
  {
   "cell_type": "markdown",
   "id": "bab71dbb",
   "metadata": {},
   "source": [
    "Прибуток в Сінгапурі складає третину від прибутку по всім країнам, тут магазини представлені у двох містах. \n",
    "Найменша частка прибутку в Індонезії.\n",
    "Поміж міст Бедок має найбільшу частку, Вудландс - найменшу частку прибутку. Обидва міста знаходяться в Сингапурі.\n",
    "Необхідно уточнити деталі особливостей розташування, розмірів магазинів, тощо в Вудлендс (Сінгапур) та Джакарта (Індонезія). Або ж дослідити причини чому ці міста приносять найменшу частку прибутку."
   ]
  },
  {
   "cell_type": "markdown",
   "id": "8a0375da",
   "metadata": {},
   "source": [
    "Цікаво також поглянути на динаміку отримання прибутуку по рокам. Розглянемо це далі:"
   ]
  },
  {
   "cell_type": "markdown",
   "id": "000f70cb",
   "metadata": {},
   "source": [
    "#### 2. Яка загальна тенденція отримання прибутку по рокам?"
   ]
  },
  {
   "cell_type": "code",
   "execution_count": 34,
   "id": "eab937a2",
   "metadata": {},
   "outputs": [
    {
     "data": {
      "image/png": "[encoded data removed]",
      "text/plain": [
       "<Figure size 800x500 with 1 Axes>"
      ]
     },
     "metadata": {},
     "output_type": "display_data"
    }
   ],
   "source": [
    "# використання аналогічних кольорів для позначення міст, що і в попердньому графіку\n",
    "colors = cmap([12, 4, 0, 8, 13])\n",
    "\n",
    "df.pivot_table(                  \n",
    "    index='year', columns='city_country', values='profit_margin', aggfunc='sum'\n",
    "    ).plot(figsize=(8, 5), color=colors)\n",
    "\n",
    "plt.xticks(np.arange(2016, 2020))\n",
    "plt.title('Dinamics of geting profit by years')\n",
    "plt.xlabel('Year')\n",
    "plt.ylabel('Profit');"
   ]
  },
  {
   "cell_type": "markdown",
   "id": "8023006d",
   "metadata": {},
   "source": [
    "Простежується загальна тенденція до зростання прибутку по всім містам. \n",
    "Найбільш стрімке зростання простежується в Маніла (Філіппіни). Варто дослідити ринок цієї країни та роглядати в першу чергу для розширення мережі.\n",
    "Також можна помітити, що в Сінгапурі міста Бедок та Вудлендс мають дещо схожу динаміку."
   ]
  },
  {
   "cell_type": "markdown",
   "id": "542f0c74",
   "metadata": {},
   "source": [
    "#### 3. Які категорії товарів є найприбутковішими?"
   ]
  },
  {
   "cell_type": "code",
   "execution_count": 66,
   "id": "ce1cc425",
   "metadata": {},
   "outputs": [
    {
     "data": {
      "text/html": [
       "<style type=\"text/css\">\n",
       "#T_388a4_row0_col0 {\n",
       "  background-color: #2e924c;\n",
       "  color: #f1f1f1;\n",
       "}\n",
       "#T_388a4_row0_col1 {\n",
       "  background-color: #5fba6c;\n",
       "  color: #f1f1f1;\n",
       "}\n",
       "#T_388a4_row0_col2 {\n",
       "  background-color: #40aa5c;\n",
       "  color: #f1f1f1;\n",
       "}\n",
       "#T_388a4_row0_col3 {\n",
       "  background-color: #3ba358;\n",
       "  color: #f1f1f1;\n",
       "}\n",
       "#T_388a4_row0_col4 {\n",
       "  background-color: #6fc174;\n",
       "  color: #000000;\n",
       "}\n",
       "#T_388a4_row1_col0 {\n",
       "  background-color: #006536;\n",
       "  color: #f1f1f1;\n",
       "}\n",
       "#T_388a4_row1_col1 {\n",
       "  background-color: #218242;\n",
       "  color: #f1f1f1;\n",
       "}\n",
       "#T_388a4_row1_col2 {\n",
       "  background-color: #006837;\n",
       "  color: #f1f1f1;\n",
       "}\n",
       "#T_388a4_row1_col3 {\n",
       "  background-color: #006737;\n",
       "  color: #f1f1f1;\n",
       "}\n",
       "#T_388a4_row1_col4 {\n",
       "  background-color: #187b3f;\n",
       "  color: #f1f1f1;\n",
       "}\n",
       "#T_388a4_row2_col0 {\n",
       "  background-color: #eff9b3;\n",
       "  color: #000000;\n",
       "}\n",
       "#T_388a4_row2_col1 {\n",
       "  background-color: #f5fbb8;\n",
       "  color: #000000;\n",
       "}\n",
       "#T_388a4_row2_col2, #T_388a4_row2_col3 {\n",
       "  background-color: #f3fab6;\n",
       "  color: #000000;\n",
       "}\n",
       "#T_388a4_row2_col4 {\n",
       "  background-color: #f0f9b4;\n",
       "  color: #000000;\n",
       "}\n",
       "#T_388a4_row3_col0 {\n",
       "  background-color: #d3eda0;\n",
       "  color: #000000;\n",
       "}\n",
       "#T_388a4_row3_col1 {\n",
       "  background-color: #ecf7b1;\n",
       "  color: #000000;\n",
       "}\n",
       "#T_388a4_row3_col2 {\n",
       "  background-color: #e4f4ab;\n",
       "  color: #000000;\n",
       "}\n",
       "#T_388a4_row3_col3 {\n",
       "  background-color: #dff3a8;\n",
       "  color: #000000;\n",
       "}\n",
       "#T_388a4_row3_col4 {\n",
       "  background-color: #e9f6af;\n",
       "  color: #000000;\n",
       "}\n",
       "#T_388a4_row4_col0 {\n",
       "  background-color: #e5f5ac;\n",
       "  color: #000000;\n",
       "}\n",
       "#T_388a4_row4_col1, #T_388a4_row4_col4 {\n",
       "  background-color: #edf8b2;\n",
       "  color: #000000;\n",
       "}\n",
       "#T_388a4_row4_col2 {\n",
       "  background-color: #e7f6ad;\n",
       "  color: #000000;\n",
       "}\n",
       "#T_388a4_row4_col3 {\n",
       "  background-color: #eef9b3;\n",
       "  color: #000000;\n",
       "}\n",
       "#T_388a4_row5_col0, #T_388a4_row5_col1, #T_388a4_row5_col2, #T_388a4_row5_col3, #T_388a4_row5_col4 {\n",
       "  background-color: #004529;\n",
       "  color: #f1f1f1;\n",
       "}\n",
       "#T_388a4_row6_col0 {\n",
       "  background-color: #62bb6e;\n",
       "  color: #f1f1f1;\n",
       "}\n",
       "#T_388a4_row6_col1 {\n",
       "  background-color: #b2df90;\n",
       "  color: #000000;\n",
       "}\n",
       "#T_388a4_row6_col2 {\n",
       "  background-color: #b5e092;\n",
       "  color: #000000;\n",
       "}\n",
       "#T_388a4_row6_col3, #T_388a4_row10_col0 {\n",
       "  background-color: #b3e091;\n",
       "  color: #000000;\n",
       "}\n",
       "#T_388a4_row6_col4 {\n",
       "  background-color: #c7e89a;\n",
       "  color: #000000;\n",
       "}\n",
       "#T_388a4_row7_col0, #T_388a4_row12_col0 {\n",
       "  background-color: #f9fdc7;\n",
       "  color: #000000;\n",
       "}\n",
       "#T_388a4_row7_col1, #T_388a4_row9_col1 {\n",
       "  background-color: #fdfed9;\n",
       "  color: #000000;\n",
       "}\n",
       "#T_388a4_row7_col2, #T_388a4_row8_col1 {\n",
       "  background-color: #fafdcc;\n",
       "  color: #000000;\n",
       "}\n",
       "#T_388a4_row7_col3 {\n",
       "  background-color: #fcfed3;\n",
       "  color: #000000;\n",
       "}\n",
       "#T_388a4_row7_col4, #T_388a4_row8_col4 {\n",
       "  background-color: #f9fdc2;\n",
       "  color: #000000;\n",
       "}\n",
       "#T_388a4_row8_col0 {\n",
       "  background-color: #fafdc8;\n",
       "  color: #000000;\n",
       "}\n",
       "#T_388a4_row8_col2 {\n",
       "  background-color: #f9fdc5;\n",
       "  color: #000000;\n",
       "}\n",
       "#T_388a4_row8_col3 {\n",
       "  background-color: #fbfed2;\n",
       "  color: #000000;\n",
       "}\n",
       "#T_388a4_row9_col0 {\n",
       "  background-color: #fbfdce;\n",
       "  color: #000000;\n",
       "}\n",
       "#T_388a4_row9_col2 {\n",
       "  background-color: #fcfed6;\n",
       "  color: #000000;\n",
       "}\n",
       "#T_388a4_row9_col3, #T_388a4_row9_col4 {\n",
       "  background-color: #fcfed7;\n",
       "  color: #000000;\n",
       "}\n",
       "#T_388a4_row10_col1 {\n",
       "  background-color: #c1e698;\n",
       "  color: #000000;\n",
       "}\n",
       "#T_388a4_row10_col2, #T_388a4_row10_col4 {\n",
       "  background-color: #a4d98a;\n",
       "  color: #000000;\n",
       "}\n",
       "#T_388a4_row10_col3, #T_388a4_row13_col2 {\n",
       "  background-color: #b1df90;\n",
       "  color: #000000;\n",
       "}\n",
       "#T_388a4_row11_col0 {\n",
       "  background-color: #8ed082;\n",
       "  color: #000000;\n",
       "}\n",
       "#T_388a4_row11_col1 {\n",
       "  background-color: #b8e293;\n",
       "  color: #000000;\n",
       "}\n",
       "#T_388a4_row11_col2, #T_388a4_row13_col4 {\n",
       "  background-color: #bce395;\n",
       "  color: #000000;\n",
       "}\n",
       "#T_388a4_row11_col3 {\n",
       "  background-color: #9ad587;\n",
       "  color: #000000;\n",
       "}\n",
       "#T_388a4_row11_col4 {\n",
       "  background-color: #c5e89a;\n",
       "  color: #000000;\n",
       "}\n",
       "#T_388a4_row12_col1, #T_388a4_row12_col4 {\n",
       "  background-color: #fdfedb;\n",
       "  color: #000000;\n",
       "}\n",
       "#T_388a4_row12_col2, #T_388a4_row14_col0, #T_388a4_row14_col1, #T_388a4_row14_col3, #T_388a4_row14_col4 {\n",
       "  background-color: #ffffe5;\n",
       "  color: #000000;\n",
       "}\n",
       "#T_388a4_row12_col3 {\n",
       "  background-color: #f8fdc1;\n",
       "  color: #000000;\n",
       "}\n",
       "#T_388a4_row13_col0 {\n",
       "  background-color: #86cc7f;\n",
       "  color: #000000;\n",
       "}\n",
       "#T_388a4_row13_col1 {\n",
       "  background-color: #a9db8c;\n",
       "  color: #000000;\n",
       "}\n",
       "#T_388a4_row13_col3 {\n",
       "  background-color: #95d385;\n",
       "  color: #000000;\n",
       "}\n",
       "#T_388a4_row14_col2 {\n",
       "  background-color: #feffdf;\n",
       "  color: #000000;\n",
       "}\n",
       "#T_388a4_row15_col0 {\n",
       "  background-color: #bee596;\n",
       "  color: #000000;\n",
       "}\n",
       "#T_388a4_row15_col1 {\n",
       "  background-color: #ccea9d;\n",
       "  color: #000000;\n",
       "}\n",
       "#T_388a4_row15_col2 {\n",
       "  background-color: #bde496;\n",
       "  color: #000000;\n",
       "}\n",
       "#T_388a4_row15_col3 {\n",
       "  background-color: #c4e799;\n",
       "  color: #000000;\n",
       "}\n",
       "#T_388a4_row15_col4 {\n",
       "  background-color: #e1f3a9;\n",
       "  color: #000000;\n",
       "}\n",
       "</style>\n",
       "<table id=\"T_388a4\">\n",
       "  <thead>\n",
       "    <tr>\n",
       "      <th class=\"index_name level0\" >city</th>\n",
       "      <th id=\"T_388a4_level0_col0\" class=\"col_heading level0 col0\" >Bedok</th>\n",
       "      <th id=\"T_388a4_level0_col1\" class=\"col_heading level0 col1\" >Jakarta</th>\n",
       "      <th id=\"T_388a4_level0_col2\" class=\"col_heading level0 col2\" >Kuala Lumpur</th>\n",
       "      <th id=\"T_388a4_level0_col3\" class=\"col_heading level0 col3\" >Manila</th>\n",
       "      <th id=\"T_388a4_level0_col4\" class=\"col_heading level0 col4\" >Woodlands</th>\n",
       "    </tr>\n",
       "    <tr>\n",
       "      <th class=\"index_name level0\" >category</th>\n",
       "      <th class=\"blank col0\" >&nbsp;</th>\n",
       "      <th class=\"blank col1\" >&nbsp;</th>\n",
       "      <th class=\"blank col2\" >&nbsp;</th>\n",
       "      <th class=\"blank col3\" >&nbsp;</th>\n",
       "      <th class=\"blank col4\" >&nbsp;</th>\n",
       "    </tr>\n",
       "  </thead>\n",
       "  <tbody>\n",
       "    <tr>\n",
       "      <th id=\"T_388a4_level0_row0\" class=\"row_heading level0 row0\" >Bakery & Breakfast</th>\n",
       "      <td id=\"T_388a4_row0_col0\" class=\"data row0 col0\" >1547</td>\n",
       "      <td id=\"T_388a4_row0_col1\" class=\"data row0 col1\" >1111</td>\n",
       "      <td id=\"T_388a4_row0_col2\" class=\"data row0 col2\" >1354</td>\n",
       "      <td id=\"T_388a4_row0_col3\" class=\"data row0 col3\" >1493</td>\n",
       "      <td id=\"T_388a4_row0_col4\" class=\"data row0 col4\" >720</td>\n",
       "    </tr>\n",
       "    <tr>\n",
       "      <th id=\"T_388a4_level0_row1\" class=\"row_heading level0 row1\" >Beauty</th>\n",
       "      <td id=\"T_388a4_row1_col0\" class=\"data row1 col0\" >1869</td>\n",
       "      <td id=\"T_388a4_row1_col1\" class=\"data row1 col1\" >1427</td>\n",
       "      <td id=\"T_388a4_row1_col2\" class=\"data row1 col2\" >1785</td>\n",
       "      <td id=\"T_388a4_row1_col3\" class=\"data row1 col3\" >1898</td>\n",
       "      <td id=\"T_388a4_row1_col4\" class=\"data row1 col4\" >1010</td>\n",
       "    </tr>\n",
       "    <tr>\n",
       "      <th id=\"T_388a4_level0_row2\" class=\"row_heading level0 row2\" >Beverages</th>\n",
       "      <td id=\"T_388a4_row2_col0\" class=\"data row2 col0\" >562</td>\n",
       "      <td id=\"T_388a4_row2_col1\" class=\"data row2 col1\" >443</td>\n",
       "      <td id=\"T_388a4_row2_col2\" class=\"data row2 col2\" >508</td>\n",
       "      <td id=\"T_388a4_row2_col3\" class=\"data row2 col3\" >574</td>\n",
       "      <td id=\"T_388a4_row2_col4\" class=\"data row2 col4\" >322</td>\n",
       "    </tr>\n",
       "    <tr>\n",
       "      <th id=\"T_388a4_level0_row3\" class=\"row_heading level0 row3\" >Choco, Snacks, Sweets</th>\n",
       "      <td id=\"T_388a4_row3_col0\" class=\"data row3 col0\" >758</td>\n",
       "      <td id=\"T_388a4_row3_col1\" class=\"data row3 col1\" >504</td>\n",
       "      <td id=\"T_388a4_row3_col2\" class=\"data row3 col2\" >618</td>\n",
       "      <td id=\"T_388a4_row3_col3\" class=\"data row3 col3\" >725</td>\n",
       "      <td id=\"T_388a4_row3_col4\" class=\"data row3 col4\" >352</td>\n",
       "    </tr>\n",
       "    <tr>\n",
       "      <th id=\"T_388a4_level0_row4\" class=\"row_heading level0 row4\" >Dairy, Chilled & Eggs</th>\n",
       "      <td id=\"T_388a4_row4_col0\" class=\"data row4 col0\" >635</td>\n",
       "      <td id=\"T_388a4_row4_col1\" class=\"data row4 col1\" >493</td>\n",
       "      <td id=\"T_388a4_row4_col2\" class=\"data row4 col2\" >596</td>\n",
       "      <td id=\"T_388a4_row4_col3\" class=\"data row4 col3\" >612</td>\n",
       "      <td id=\"T_388a4_row4_col4\" class=\"data row4 col4\" >332</td>\n",
       "    </tr>\n",
       "    <tr>\n",
       "      <th id=\"T_388a4_level0_row5\" class=\"row_heading level0 row5\" >Frozen</th>\n",
       "      <td id=\"T_388a4_row5_col0\" class=\"data row5 col0\" >2075</td>\n",
       "      <td id=\"T_388a4_row5_col1\" class=\"data row5 col1\" >1810</td>\n",
       "      <td id=\"T_388a4_row5_col2\" class=\"data row5 col2\" >2011</td>\n",
       "      <td id=\"T_388a4_row5_col3\" class=\"data row5 col3\" >2121</td>\n",
       "      <td id=\"T_388a4_row5_col4\" class=\"data row5 col4\" >1244</td>\n",
       "    </tr>\n",
       "    <tr>\n",
       "      <th id=\"T_388a4_level0_row6\" class=\"row_heading level0 row6\" >Fruit & Vegetable</th>\n",
       "      <td id=\"T_388a4_row6_col0\" class=\"data row6 col0\" >1261</td>\n",
       "      <td id=\"T_388a4_row6_col1\" class=\"data row6 col1\" >802</td>\n",
       "      <td id=\"T_388a4_row6_col2\" class=\"data row6 col2\" >878</td>\n",
       "      <td id=\"T_388a4_row6_col3\" class=\"data row6 col3\" >964</td>\n",
       "      <td id=\"T_388a4_row6_col4\" class=\"data row6 col4\" >482</td>\n",
       "    </tr>\n",
       "    <tr>\n",
       "      <th id=\"T_388a4_level0_row7\" class=\"row_heading level0 row7\" >Health</th>\n",
       "      <td id=\"T_388a4_row7_col0\" class=\"data row7 col0\" >434</td>\n",
       "      <td id=\"T_388a4_row7_col1\" class=\"data row7 col1\" >288</td>\n",
       "      <td id=\"T_388a4_row7_col2\" class=\"data row7 col2\" >383</td>\n",
       "      <td id=\"T_388a4_row7_col3\" class=\"data row7 col3\" >412</td>\n",
       "      <td id=\"T_388a4_row7_col4\" class=\"data row7 col4\" >258</td>\n",
       "    </tr>\n",
       "    <tr>\n",
       "      <th id=\"T_388a4_level0_row8\" class=\"row_heading level0 row8\" >Household</th>\n",
       "      <td id=\"T_388a4_row8_col0\" class=\"data row8 col0\" >428</td>\n",
       "      <td id=\"T_388a4_row8_col1\" class=\"data row8 col1\" >344</td>\n",
       "      <td id=\"T_388a4_row8_col2\" class=\"data row8 col2\" >415</td>\n",
       "      <td id=\"T_388a4_row8_col3\" class=\"data row8 col3\" >421</td>\n",
       "      <td id=\"T_388a4_row8_col4\" class=\"data row8 col4\" >260</td>\n",
       "    </tr>\n",
       "    <tr>\n",
       "      <th id=\"T_388a4_level0_row9\" class=\"row_heading level0 row9\" >Kitchen & Dining</th>\n",
       "      <td id=\"T_388a4_row9_col0\" class=\"data row9 col0\" >395</td>\n",
       "      <td id=\"T_388a4_row9_col1\" class=\"data row9 col1\" >291</td>\n",
       "      <td id=\"T_388a4_row9_col2\" class=\"data row9 col2\" >337</td>\n",
       "      <td id=\"T_388a4_row9_col3\" class=\"data row9 col3\" >392</td>\n",
       "      <td id=\"T_388a4_row9_col4\" class=\"data row9 col4\" >196</td>\n",
       "    </tr>\n",
       "    <tr>\n",
       "      <th id=\"T_388a4_level0_row10\" class=\"row_heading level0 row10\" >Meat & Seafood</th>\n",
       "      <td id=\"T_388a4_row10_col0\" class=\"data row10 col0\" >917</td>\n",
       "      <td id=\"T_388a4_row10_col1\" class=\"data row10 col1\" >734</td>\n",
       "      <td id=\"T_388a4_row10_col2\" class=\"data row10 col2\" >954</td>\n",
       "      <td id=\"T_388a4_row10_col3\" class=\"data row10 col3\" >977</td>\n",
       "      <td id=\"T_388a4_row10_col4\" class=\"data row10 col4\" >584</td>\n",
       "    </tr>\n",
       "    <tr>\n",
       "      <th id=\"T_388a4_level0_row11\" class=\"row_heading level0 row11\" >Mother & Baby</th>\n",
       "      <td id=\"T_388a4_row11_col0\" class=\"data row11 col0\" >1081</td>\n",
       "      <td id=\"T_388a4_row11_col1\" class=\"data row11 col1\" >780</td>\n",
       "      <td id=\"T_388a4_row11_col2\" class=\"data row11 col2\" >840</td>\n",
       "      <td id=\"T_388a4_row11_col3\" class=\"data row11 col3\" >1076</td>\n",
       "      <td id=\"T_388a4_row11_col4\" class=\"data row11 col4\" >485</td>\n",
       "    </tr>\n",
       "    <tr>\n",
       "      <th id=\"T_388a4_level0_row12\" class=\"row_heading level0 row12\" >Party Supplies</th>\n",
       "      <td id=\"T_388a4_row12_col0\" class=\"data row12 col0\" >431</td>\n",
       "      <td id=\"T_388a4_row12_col1\" class=\"data row12 col1\" >280</td>\n",
       "      <td id=\"T_388a4_row12_col2\" class=\"data row12 col2\" >257</td>\n",
       "      <td id=\"T_388a4_row12_col3\" class=\"data row12 col3\" >501</td>\n",
       "      <td id=\"T_388a4_row12_col4\" class=\"data row12 col4\" >184</td>\n",
       "    </tr>\n",
       "    <tr>\n",
       "      <th id=\"T_388a4_level0_row13\" class=\"row_heading level0 row13\" >Pet Care</th>\n",
       "      <td id=\"T_388a4_row13_col0\" class=\"data row13 col0\" >1117</td>\n",
       "      <td id=\"T_388a4_row13_col1\" class=\"data row13 col1\" >842</td>\n",
       "      <td id=\"T_388a4_row13_col2\" class=\"data row13 col2\" >896</td>\n",
       "      <td id=\"T_388a4_row13_col3\" class=\"data row13 col3\" >1093</td>\n",
       "      <td id=\"T_388a4_row13_col4\" class=\"data row13 col4\" >518</td>\n",
       "    </tr>\n",
       "    <tr>\n",
       "      <th id=\"T_388a4_level0_row14\" class=\"row_heading level0 row14\" >Rice & Cooking Essentials</th>\n",
       "      <td id=\"T_388a4_row14_col0\" class=\"data row14 col0\" >275</td>\n",
       "      <td id=\"T_388a4_row14_col1\" class=\"data row14 col1\" >233</td>\n",
       "      <td id=\"T_388a4_row14_col2\" class=\"data row14 col2\" >291</td>\n",
       "      <td id=\"T_388a4_row14_col3\" class=\"data row14 col3\" >317</td>\n",
       "      <td id=\"T_388a4_row14_col4\" class=\"data row14 col4\" >151</td>\n",
       "    </tr>\n",
       "    <tr>\n",
       "      <th id=\"T_388a4_level0_row15\" class=\"row_heading level0 row15\" >Wines, Beers & Spirits</th>\n",
       "      <td id=\"T_388a4_row15_col0\" class=\"data row15 col0\" >863</td>\n",
       "      <td id=\"T_388a4_row15_col1\" class=\"data row15 col1\" >687</td>\n",
       "      <td id=\"T_388a4_row15_col2\" class=\"data row15 col2\" >835</td>\n",
       "      <td id=\"T_388a4_row15_col3\" class=\"data row15 col3\" >880</td>\n",
       "      <td id=\"T_388a4_row15_col4\" class=\"data row15 col4\" >390</td>\n",
       "    </tr>\n",
       "  </tbody>\n",
       "</table>\n"
      ],
      "text/plain": [
       "<pandas.io.formats.style.Styler at 0x7f2d80724b10>"
      ]
     },
     "execution_count": 66,
     "metadata": {},
     "output_type": "execute_result"
    }
   ],
   "source": [
    "df.pivot_table(\n",
    "    index='category', columns='city', values='profit_margin', aggfunc='sum'\n",
    "    ).style.background_gradient(axis=0, cmap='YlGn').format(precision=0)\n",
    "\n"
   ]
  },
  {
   "cell_type": "markdown",
   "id": "4e809b99",
   "metadata": {},
   "source": [
    "Помітно загальну тенденцію по всім містам по найбільш прибутковим категоріям. Ця інформація корисна для планування, закупівля продукції, рекламних компаній, маркетингових активностей. Як приклад, можна розробити рекламну компанію з наголосом на те, що в мережі найкращий асортимент заморожених продуктів."
   ]
  },
  {
   "cell_type": "markdown",
   "id": "5e94edee",
   "metadata": {},
   "source": [
    "Розглянемо список категорій відсортований за спадянням від найбільш прибуткової до найменш. Додатково варто поглянути на популярність категорій за кількістю придбаних товарів."
   ]
  },
  {
   "cell_type": "code",
   "execution_count": 63,
   "id": "dce8881e",
   "metadata": {
    "scrolled": true
   },
   "outputs": [],
   "source": [
    "sorted_profit_by_category = (\n",
    "    df.groupby('category')['profit_margin'].sum().round(2).sort_values(ascending=False).reset_index()\n",
    ")"
   ]
  },
  {
   "cell_type": "code",
   "execution_count": 67,
   "id": "85878b1e",
   "metadata": {},
   "outputs": [],
   "source": [
    "sorted_quantity_by_category = (\n",
    "    df.groupby('category')['quantity'].sum().sort_values(ascending=False).reset_index()\n",
    ")"
   ]
  },
  {
   "cell_type": "code",
   "execution_count": 78,
   "id": "fd0beed8",
   "metadata": {},
   "outputs": [
    {
     "data": {
      "image/png": "[encoded data removed]",
      "text/plain": [
       "<Figure size 1200x600 with 2 Axes>"
      ]
     },
     "metadata": {},
     "output_type": "display_data"
    }
   ],
   "source": [
    "fig, axes = plt.subplots(1, 2, figsize=(12, 6))\n",
    "\n",
    "# графік категорій відсортованих за профітом\n",
    "(\n",
    "    sns.barplot(x='profit_margin', y='category', data=sorted_profit_by_category,\n",
    "                estimator=sum, errorbar=None, color='green', alpha=0.7, orient='h',\n",
    "               order=sorted_profit_by_category['category'], ax=axes[0])\n",
    ")\n",
    "axes[0].set_title('Profit')\n",
    "axes[0].set_xlabel(None)\n",
    "axes[0].set_ylabel(None);\n",
    "\n",
    "# графік категорій відсортованих за кількістю придбаних товарів\n",
    "(\n",
    "    sns.barplot(x='quantity', y='category', data=sorted_quantity_by_category,\n",
    "                estimator=sum, errorbar=None, color='green', alpha=0.7, orient='h',\n",
    "               order=sorted_quantity_by_category['category'], ax=axes[1])\n",
    ")\n",
    "axes[1].set_title('Quantity of Sold Items')\n",
    "axes[1].set_xlabel(None)\n",
    "axes[1].set_ylabel(None);\n",
    "\n",
    "plt.tight_layout()"
   ]
  },
  {
   "cell_type": "markdown",
   "id": "3951ff8e",
   "metadata": {},
   "source": [
    "Три найбільш прибуткові категорії: заморожені продуки, товари для краси, випічка та сніданки. Можливо в цих категоріях варто розширити асортимент, розробити рекламні компанії та маркетингові активності.  \n",
    "Видно, що категорії, що принесли найбільший прибуток дещо відрізняються від категорій, що продавались найбільше.\n",
    "Відповідно варто подумати як збільшити кількість продажів найприбутковіших товарів, та чи можливо підянити маржу товарів, що найбільше продяються."
   ]
  },
  {
   "cell_type": "markdown",
   "id": "e3234f1a",
   "metadata": {},
   "source": [
    "#### 4. Яка категорія відвідувачів за віковими групами та гендером принесла найбільший прибуток?"
   ]
  },
  {
   "cell_type": "code",
   "execution_count": 39,
   "id": "95cf0be0",
   "metadata": {},
   "outputs": [
    {
     "data": {
      "image/png": "[encoded data removed]",
      "text/plain": [
       "<Figure size 1000x500 with 1 Axes>"
      ]
     },
     "metadata": {},
     "output_type": "display_data"
    }
   ],
   "source": [
    "plt.figure(figsize=(10, 5))\n",
    "sns.barplot(x = 'age_group', y = 'profit_margin', hue = 'gender', data = df, estimator=sum, errorbar = None)\n",
    "\n",
    "plt.title('Total profit by age group and gender')\n",
    "plt.xlabel('Age group')\n",
    "plt.ylabel('Profit');"
   ]
  },
  {
   "cell_type": "markdown",
   "id": "c8a56e34",
   "metadata": {},
   "source": [
    "Найбільший прибуток принесли жінки вікової групи до 25 років. Найменший - відвідувачі старше 56 років.\n",
    "Добре видно, що загалом жінки приносять в рази більше прибутку ніж чоловіки. Можна виділити чотири основні категорії лояльної цільової аудиторі, на які варто налаштовувати рекламні компанії: жінки до 25 років, жінки 25-35 років, жінки 36-46 років, жінки 46-55 років. "
   ]
  },
  {
   "cell_type": "markdown",
   "id": "cec9dab7",
   "metadata": {},
   "source": [
    "Поглянемо скільки чоловіків та жінок в даному наборі даних:"
   ]
  },
  {
   "cell_type": "code",
   "execution_count": 40,
   "id": "d08c7747",
   "metadata": {},
   "outputs": [],
   "source": [
    "n_female = df[df['gender'] == 'Female']['membership_id'].nunique()\n",
    "n_male = df[df['gender'] == 'Male']['membership_id'].nunique()\n",
    "n_all_customers = df['membership_id'].nunique()"
   ]
  },
  {
   "cell_type": "code",
   "execution_count": 41,
   "id": "3e6650cd",
   "metadata": {},
   "outputs": [
    {
     "name": "stdout",
     "output_type": "stream",
     "text": [
      "В даному наборі даних 2601 відвідувачів\n",
      "Серед них 2102 жінок та 499 чоловіків\n",
      "Жінки складають 80.82 % відвідувачів\n"
     ]
    }
   ],
   "source": [
    "print(f'В даному наборі даних {n_all_customers} відвідувачів\\n'\n",
    "      f'Серед них {n_female} жінок та {n_male} чоловіків\\n'\n",
    "      f'Жінки складають {n_female/n_all_customers*100:.2f} % відвідувачів')"
   ]
  },
  {
   "cell_type": "markdown",
   "id": "664b0df5",
   "metadata": {},
   "source": [
    "Жінки складають в рази більшу частину постійних клієнтів. Можна припустити, що жінки більш охоче оформлюють картки члена або в даних країнах більш прийнято саме жінкам здійснювати покупки для сім'ї тощо. Цей момент варто уточнити/дослідити щоб мати більш повне уявлення про цільову аудиторію. Рекомендовано також порівняти цей набір даних з даними за покупки здійснені без картки члена. А саме, дізнатись частку клієнтів з карткою та без, порівняти кількість покупок, профіт, середній чек тощо. Це надасть більш повну картину фінансових показників та ефективності програми лояльності."
   ]
  },
  {
   "cell_type": "markdown",
   "id": "924afb43",
   "metadata": {},
   "source": [
    "#### 5. Чи відрізняється середній чек чоловіків та жінок?"
   ]
  },
  {
   "cell_type": "code",
   "execution_count": 42,
   "id": "b1685511",
   "metadata": {},
   "outputs": [],
   "source": [
    "# групування даних щоб визничити суму кожного чеку\n",
    "# в даному випадку використано агрегацію mean(), оскільки колонка gross_bill_amount містить суму всіх товарів в чеку\n",
    "\n",
    "female_amount_receipts = df[df['gender'] == 'Female'].groupby('receipt_number')['gross_bill_amount_correct'].mean()\n",
    "male_amount_receipts = df[df['gender'] == 'Male'].groupby('receipt_number')['gross_bill_amount_correct'].mean()"
   ]
  },
  {
   "cell_type": "code",
   "execution_count": 43,
   "id": "b1f369f1",
   "metadata": {},
   "outputs": [
    {
     "name": "stdout",
     "output_type": "stream",
     "text": [
      "Середній чек серед відвідувачів жінок - 47.17\n",
      "Середній чек серед відвідувачів чоловіків - 45.38\n"
     ]
    }
   ],
   "source": [
    "print(f'Середній чек серед відвідувачів жінок - {female_amount_receipts.mean():.2f}\\n'\n",
    "     f'Середній чек серед відвідувачів чоловіків - {male_amount_receipts.mean():.2f}')"
   ]
  },
  {
   "cell_type": "code",
   "execution_count": 44,
   "id": "cb245e4b",
   "metadata": {},
   "outputs": [
    {
     "data": {
      "image/png": "[encoded data removed]",
      "text/plain": [
       "<Figure size 800x400 with 1 Axes>"
      ]
     },
     "metadata": {},
     "output_type": "display_data"
    }
   ],
   "source": [
    "plt.figure(figsize=(8,4), dpi=100)\n",
    "\n",
    "sns.histplot(data = \n",
    "                  df.groupby(['receipt_number', 'gender'])['gross_bill_amount_correct']\n",
    "                 .mean().reset_index(), x='gross_bill_amount_correct', hue = 'gender', bins=50\n",
    "            )\n",
    "\n",
    "plt.title('Distribution of the gross bill amount by gender')\n",
    "plt.xlabel('Gross bill amount')\n",
    "plt.ylabel('Number of receipts');"
   ]
  },
  {
   "cell_type": "markdown",
   "id": "3de7537b",
   "metadata": {},
   "source": [
    "Розподіли даних і для жінок, і для чоловіквів скошені вправо та мають подібну форму. Тобто відвідувачі в більшості випадків здійснюють покупки на невеликі суми. Також вирогідно є викиди в сторону великих чеків.  \n",
    "Перевіримо чи є статистична значима різниця між сумою середнього чеку серед двох груп відвідувачів."
   ]
  },
  {
   "cell_type": "markdown",
   "id": "09996507",
   "metadata": {},
   "source": [
    "- Гіпотеза 0 - немає статистично значимої різниці між середнім чеком чоловіків та жінок\n",
    "- Альтернативна гіпотеза - середній чек чоловіків суттєво менший за чек жінок"
   ]
  },
  {
   "cell_type": "code",
   "execution_count": 45,
   "id": "bb1b699a",
   "metadata": {},
   "outputs": [],
   "source": [
    "# в даному випадку доречне використання u-тесту Манна-Уітні\n",
    "\n",
    "from scipy.stats import mannwhitneyu"
   ]
  },
  {
   "cell_type": "code",
   "execution_count": 46,
   "id": "2dea093f",
   "metadata": {},
   "outputs": [],
   "source": [
    "# вибір рандомних значень з даних по жінкам щоб зрівняти два набори даних для більшої точності тесту\n",
    "\n",
    "random_female_receipts = np.random.choice(female_amount_receipts, size=2260, replace=False)"
   ]
  },
  {
   "cell_type": "code",
   "execution_count": 47,
   "id": "f81c140e",
   "metadata": {},
   "outputs": [],
   "source": [
    "u_statistic, p_value = mannwhitneyu(random_female_receipts, male_amount_receipts)"
   ]
  },
  {
   "cell_type": "code",
   "execution_count": 48,
   "id": "2ad04e19",
   "metadata": {},
   "outputs": [
    {
     "name": "stdout",
     "output_type": "stream",
     "text": [
      "2603862.5 0.2537742220701209\n"
     ]
    }
   ],
   "source": [
    "print(u_statistic, p_value)"
   ]
  },
  {
   "cell_type": "code",
   "execution_count": 49,
   "id": "2cd4c6c3",
   "metadata": {},
   "outputs": [
    {
     "name": "stdout",
     "output_type": "stream",
     "text": [
      "Н0 не може бути відхилена.\n"
     ]
    }
   ],
   "source": [
    "if p_value <= 0.05:\n",
    "    print(\"Відхилити Н0.\")\n",
    "else:\n",
    "    print(\"Н0 не може бути відхилена.\")\n"
   ]
  },
  {
   "cell_type": "markdown",
   "id": "a6dbaee6",
   "metadata": {},
   "source": [
    "Висновок: в тому, як відвідувачі витрачають гроші, немає суттєвих відмінностей за гендером. Відповідно чоловіки є також цікавою цільовою аудиторією для компанії. Варто дослідити як зацікавити більшу кількість чоловіків стати постійними клієнтами. Можна провести опитування (з заохоченням додатковими балами, спеціальними пропозиціями чи подарунками) серед постійних клієнтів чоловіків щодо того, які товари, акції, сервіси вони хотіли би бачити, а також що б могло спонукати їх радити магазини своїм знайомим."
   ]
  },
  {
   "cell_type": "markdown",
   "id": "30cb0581",
   "metadata": {},
   "source": [
    "####  6. Які топ 5 субкатегорії для кожної вікової групи по кількості придбаних товарів?"
   ]
  },
  {
   "cell_type": "code",
   "execution_count": 50,
   "id": "ada1b9d4",
   "metadata": {},
   "outputs": [],
   "source": [
    "top_5_subcategory = (\n",
    "    df.groupby(['age_group', 'sub_category', 'category'])['quantity']\n",
    "    .sum().groupby(level=0, group_keys=False).nlargest(5)\n",
    ")"
   ]
  },
  {
   "cell_type": "code",
   "execution_count": 51,
   "id": "a3422251",
   "metadata": {},
   "outputs": [
    {
     "data": {
      "text/plain": [
       "age_group       sub_category          category          \n",
       "up to 25 years  BBQ Supplies          Kitchen & Dining      1191\n",
       "                Dog Food & Trat       Pet Care              1104\n",
       "                Oral Care             Beauty                 997\n",
       "                skin care             Beauty                 875\n",
       "                Frozen Vegetables     Frozen                 805\n",
       "26 - 35 years   BBQ Supplies          Kitchen & Dining       802\n",
       "                Oral Care             Beauty                 716\n",
       "                Dog Food & Trat       Pet Care               602\n",
       "                Disposable Tableware  Party Supplies         528\n",
       "                Fresh Bread           Bakery & Breakfast     507\n",
       "36 - 45 years   BBQ Supplies          Kitchen & Dining       800\n",
       "                Dog Food & Trat       Pet Care               748\n",
       "                Oral Care             Beauty                 696\n",
       "                Disposable Tableware  Party Supplies         693\n",
       "                Frozen Vegetables     Frozen                 621\n",
       "46 - 55 years   BBQ Supplies          Kitchen & Dining       919\n",
       "                Oral Care             Beauty                 806\n",
       "                Dog Food & Trat       Pet Care               761\n",
       "                Disposable Tableware  Party Supplies         749\n",
       "                skin care             Beauty                 677\n",
       "56 - 65 years   BBQ Supplies          Kitchen & Dining       101\n",
       "                Dog Food & Trat       Pet Care                89\n",
       "                Disposable Tableware  Party Supplies          87\n",
       "                Oral Care             Beauty                  84\n",
       "                Frozen Vegetables     Frozen                  67\n",
       "66 + years      BBQ Supplies          Kitchen & Dining       137\n",
       "                Oral Care             Beauty                  90\n",
       "                skin care             Beauty                  85\n",
       "                Fresh Bread           Bakery & Breakfast      82\n",
       "                Dog Food & Trat       Pet Care                79\n",
       "Name: quantity, dtype: int64"
      ]
     },
     "execution_count": 51,
     "metadata": {},
     "output_type": "execute_result"
    }
   ],
   "source": [
    "top_5_subcategory"
   ]
  },
  {
   "cell_type": "markdown",
   "id": "9357655b",
   "metadata": {},
   "source": [
    "На першому місці по кількості придбаних товарів у всіх вікових групах - приладдя для барбекю. Ця субкатегорія відноситься до категорії товарів для кухні, що є однією з найменш прибуткових. Можливо велика кількість придбаних одиниць визначена тим, що це недорогі, одноразові товари. Однак можна припустити, що такий вид досугу, як влаштування барбекю, є дуже популярним серед всіх вікових груп. Варто розглянути які пов'язані товари та продукти можна продавати для барбекю. Можливо варто пропонувати готові набори продуктів або зробити окремий відділ/стенд \"Все для барбекю\". Цю інформацію однозначно варто врахувати в розробці рекламних компаній.\n",
    "Варто зазначити, що є ще спільні популярні субкатегорії для всх вікових груп - це товари догляду за шкірою та ротовою порожниною, а також їжа для собак. Що відносяться до категорій, що на 2-му та 4-му місці по прибутковості відповідно. Вся ця інформація допомагає детальніше скласти портрет цільової аудиторії і відповідно планувати асортимент товарів, маркетингові заходи. Наприклад, можна сказати , що молоді люди до 25 років турбуються про своїх тварин, приділяють значну увагу своїй зовнішності та цінують швидкість у приготуванні їжі (бо заморожені овочі зазвичай вже очищені та подрібнені)."
   ]
  },
  {
   "cell_type": "markdown",
   "id": "6944966c",
   "metadata": {},
   "source": [
    "#### 7. Які топ 10 брендів по кількості куплеих товарів для кожної вікової групи"
   ]
  },
  {
   "cell_type": "code",
   "execution_count": 52,
   "id": "2d3867b9",
   "metadata": {},
   "outputs": [],
   "source": [
    "top_10_brands = (\n",
    "    df.groupby(['age_group', 'brand', 'sub_category'])['quantity']\n",
    "    .sum().groupby(level=0, group_keys=False).nlargest(10)\n",
    ")"
   ]
  },
  {
   "cell_type": "code",
   "execution_count": 53,
   "id": "708837dd",
   "metadata": {},
   "outputs": [
    {
     "data": {
      "text/plain": [
       "age_group       brand            sub_category        \n",
       "up to 25 years  Sainbury         snacks                  422\n",
       "                Ashai            Beer                    386\n",
       "                Nature's Gift    Dog Food & Trat         366\n",
       "                BonJour          Fresh Bread             359\n",
       "                Anchor           Butter & Margarine      331\n",
       "                Alpo             Dog Food & Trat         326\n",
       "                PEDIGREE         Dog Food & Trat         321\n",
       "                Nutro            Pet Food                313\n",
       "                Yakult           Fresh Milk              303\n",
       "                Erum             Frozen Vegetables       288\n",
       "26 - 35 years   Sainbury         snacks                  274\n",
       "                BonJour          Fresh Bread             265\n",
       "                Ashai            Beer                    248\n",
       "                Anchor           Butter & Margarine      226\n",
       "                Yakult           Fresh Milk              217\n",
       "                Biogreen         Disposable Tableware    209\n",
       "                Millenium Horse  Disposable Tableware    207\n",
       "                Nature's Gift    Dog Food & Trat         204\n",
       "                Erum             Frozen Vegetables       184\n",
       "                Nutro            Pet Food                181\n",
       "36 - 45 years   Sainbury         snacks                  285\n",
       "                Millenium Horse  Disposable Tableware    277\n",
       "                Biogreen         Disposable Tableware    275\n",
       "                BonJour          Fresh Bread             275\n",
       "                Ashai            Beer                    268\n",
       "                Nature's Gift    Dog Food & Trat         267\n",
       "                Erum             Frozen Vegetables       235\n",
       "                Nutro            Pet Food                225\n",
       "                Anchor           Butter & Margarine      218\n",
       "                Alpo             Dog Food & Trat         214\n",
       "46 - 55 years   Millenium Horse  Disposable Tableware    300\n",
       "                Biogreen         Disposable Tableware    297\n",
       "                Ashai            Beer                    277\n",
       "                Sainbury         snacks                  277\n",
       "                BonJour          Fresh Bread             256\n",
       "                Nature's Gift    Dog Food & Trat         252\n",
       "                Erum             Frozen Vegetables       248\n",
       "                Anchor           Butter & Margarine      243\n",
       "                Yakult           Fresh Milk              234\n",
       "                Alpo             Dog Food & Trat         219\n",
       "56 - 65 years   Biogreen         Disposable Tableware     34\n",
       "                Millenium Horse  Disposable Tableware     33\n",
       "                Nutro            Pet Food                 32\n",
       "                Nature's Gift    Dog Food & Trat          29\n",
       "                PEDIGREE         Dog Food & Trat          28\n",
       "                Alpo             Dog Food & Trat          25\n",
       "                Birds Eye        Frozen Vegetables        24\n",
       "                Sensodyne        Oral Care                23\n",
       "                Liang Teck       BBQ Supplies             22\n",
       "                Biogreen         BBQ Supplies             21\n",
       "66 + years      Ashai            Beer                     44\n",
       "                BonJour          Fresh Bread              40\n",
       "                Sainbury         snacks                   39\n",
       "                Anchor           Butter & Margarine       37\n",
       "                Swee!            BBQ Supplies             35\n",
       "                Yakult           Fresh Milk               33\n",
       "                Nature's Gift    Dog Food & Trat          30\n",
       "                Alpo             Dog Food & Trat          29\n",
       "                Biogreen         Disposable Tableware     28\n",
       "                Millenium Horse  Disposable Tableware     28\n",
       "Name: quantity, dtype: int64"
      ]
     },
     "execution_count": 53,
     "metadata": {},
     "output_type": "execute_result"
    }
   ],
   "source": [
    "top_10_brands"
   ]
  },
  {
   "cell_type": "markdown",
   "id": "a9eb3cd0",
   "metadata": {},
   "source": [
    "Варто проаналізувати популярні бренди, якої вони цінової категорії, з яким позіціонуванням тощо. Це надась більше розуміння про вподобання відвідувачів, схожість/відмінність різних вікових груп. Можливо з деякими брендами варто домовитись про спільну маркетингову компанію. Наприклад, бачимо, що є популярний бренд пива Ashai для всіх вікових категорій, який молоді люди до 25 років придбали найбільшу кількість одиниць."
   ]
  },
  {
   "cell_type": "markdown",
   "id": "d33d8ce4",
   "metadata": {},
   "source": [
    "#### 8. Яка середня кількість повторних візитів в магазин?"
   ]
  },
  {
   "cell_type": "code",
   "execution_count": 54,
   "id": "0617bce6",
   "metadata": {},
   "outputs": [],
   "source": [
    "n_repeat_purchase = (\n",
    "                 df.groupby('membership_id')['receipt_number']\n",
    "                 .nunique().reset_index().rename(columns={'receipt_number': 'n_receipts'})\n",
    ")"
   ]
  },
  {
   "cell_type": "code",
   "execution_count": 55,
   "id": "7c8506fc",
   "metadata": {
    "scrolled": true
   },
   "outputs": [
    {
     "name": "stdout",
     "output_type": "stream",
     "text": [
      "Відвідувачі в середньому здійснють 5 повторних візитів\n"
     ]
    }
   ],
   "source": [
    "print(f\"Відвідувачі в середньому здійснють {n_repeat_purchase['n_receipts'].mean():.0f} повторних візитів\")"
   ]
  },
  {
   "cell_type": "markdown",
   "id": "47bb4624",
   "metadata": {},
   "source": [
    "Поглянемо також на загальну картину повторних візитів, яка кількість повторних візитів не є типовою."
   ]
  },
  {
   "cell_type": "code",
   "execution_count": 56,
   "id": "4b262bed",
   "metadata": {},
   "outputs": [
    {
     "data": {
      "image/png": "[encoded data removed]",
      "text/plain": [
       "<Figure size 640x480 with 1 Axes>"
      ]
     },
     "metadata": {},
     "output_type": "display_data"
    }
   ],
   "source": [
    "n_repeat_purchase.plot.box()\n",
    "\n",
    "plt.title('Distribution of the number of repeat purchase');"
   ]
  },
  {
   "cell_type": "markdown",
   "id": "5f8b9f0c",
   "metadata": {},
   "source": [
    "Загалом відвідувачі здійснюють від 1 до 14 візитів. На графіку є викиди, тобто більша кількість за вказану не є типовою."
   ]
  },
  {
   "cell_type": "markdown",
   "id": "2bd1a1b6",
   "metadata": {},
   "source": [
    "#### 9. Який середній час відвідувачі лишаються клієнтами компанії (тривалість життя клієнта Customer Lifespan)?"
   ]
  },
  {
   "cell_type": "code",
   "execution_count": 57,
   "id": "b97aefb9",
   "metadata": {},
   "outputs": [],
   "source": [
    "first_purchase = df.groupby('membership_id')['date'].min()\n",
    "last_purchase = df.groupby('membership_id')['date'].max()\n",
    "\n",
    "customer_lifespan_days = (last_purchase - first_purchase).dt.days"
   ]
  },
  {
   "cell_type": "code",
   "execution_count": 58,
   "id": "2d3daf2f",
   "metadata": {},
   "outputs": [
    {
     "name": "stdout",
     "output_type": "stream",
     "text": [
      "Ceредня тривалість життя клієнтів - 735 днів\n"
     ]
    }
   ],
   "source": [
    "print(f'Ceредня тривалість життя клієнтів - {round(customer_lifespan_days.mean())} днів')"
   ]
  },
  {
   "cell_type": "code",
   "execution_count": 59,
   "id": "0c6f6ce6",
   "metadata": {},
   "outputs": [
    {
     "data": {
      "image/png": "[encoded data removed]",
      "text/plain": [
       "<Figure size 640x480 with 1 Axes>"
      ]
     },
     "metadata": {},
     "output_type": "display_data"
    }
   ],
   "source": [
    "sns.histplot(data=customer_lifespan_days, bins=15)\n",
    "\n",
    "plt.title('Distribution of customer lifespan')\n",
    "plt.xlabel('Number of days')\n",
    "plt.ylabel('Number of customers');"
   ]
  },
  {
   "cell_type": "markdown",
   "id": "ed15841b",
   "metadata": {},
   "source": [
    "На графіку наявний великий пік в районі найменшої кількрості днів, цей пік вирогідно саме в значенні 0. Тобто є багато клієнтів, які здійснили лише один візит. Перевіримо це в наступному питанні.\n",
    "Загалом гістограма скошена вліво, тобто також спотерігаємо і велику кількість відвідувачів, що довгий час є клієнтами компанії."
   ]
  },
  {
   "cell_type": "markdown",
   "id": "1f37b2b5",
   "metadata": {},
   "source": [
    "#### 10.  Який відсоток клієнтів не здійснило більше 1-го відвідування?"
   ]
  },
  {
   "cell_type": "code",
   "execution_count": 60,
   "id": "4288376b",
   "metadata": {},
   "outputs": [],
   "source": [
    "one_day_customers = n_repeat_purchase[n_repeat_purchase['n_receipts'] == 1]['n_receipts'].count()"
   ]
  },
  {
   "cell_type": "code",
   "execution_count": 61,
   "id": "40ecab34",
   "metadata": {},
   "outputs": [],
   "source": [
    "all_customers = n_repeat_purchase['n_receipts'].count()"
   ]
  },
  {
   "cell_type": "code",
   "execution_count": 62,
   "id": "d0126563",
   "metadata": {},
   "outputs": [
    {
     "name": "stdout",
     "output_type": "stream",
     "text": [
      "20.03 % клієнтів здійснли лише одни візит в магазин\n"
     ]
    }
   ],
   "source": [
    "print(f'{one_day_customers/all_customers*100:.2f} % клієнтів здійснли лише одни візит в магазин')"
   ]
  },
  {
   "cell_type": "markdown",
   "id": "9894fe20",
   "metadata": {},
   "source": [
    "Підсумовуючи 8, 9 та 10 питання:\n",
    "- В середньму відвідувачі здійснюють 5 повторних візитів\n",
    "- Середній час життя клієнтів - 735 днів\n",
    "- 20 % відвідувачів не здійснюють повторних покупок  \n",
    "\n",
    "Ці цифри будуть корисні для постановки бізнес та маркетингових цілей."
   ]
  },
  {
   "cell_type": "markdown",
   "id": "4615827d",
   "metadata": {},
   "source": [
    "Можна зробити висновок, що програма лояльності потребує уваги. Якщо клієнти і залишаються в компанії надовго, проте повторні візити здійснюють не часто.\n",
    "Варто дослідити чи можна збільшити кількість повторних візитів та зменшити процент відвідувачів, що не повертаються.\n",
    "Чи влаштовує відвідувачів сервіс? Які особливості розташування магазинів? Можливо варто додати сервіс з онлайн замовлень товарів або додати зону відпочинку, каву на виніс тощо. Рекомендовано провести опитування серед відвідувачів та дослідити конкурентів."
   ]
  },
  {
   "cell_type": "markdown",
   "id": "0d136df6",
   "metadata": {},
   "source": [
    "#### 11. Зі збільшенням отриманої знижки чи зростає кількість товарів та середня вартість чеку?"
   ]
  },
  {
   "cell_type": "code",
   "execution_count": 63,
   "id": "3d08dbc6",
   "metadata": {},
   "outputs": [],
   "source": [
    "quantity_in_receipt = (\n",
    "    df.groupby(['receipt_number', 'discount'])[['quantity', 'gross_bill_amount_correct']]\n",
    "    .agg({'quantity': 'sum', 'gross_bill_amount_correct': 'mean'}).reset_index()\n",
    ")"
   ]
  },
  {
   "cell_type": "markdown",
   "id": "27b4fc42",
   "metadata": {},
   "source": [
    "Попердньо виявлено неточність в розрахунках, причиною якої є 186 чеки, де\n",
    "присутні більше одного виду знижки, хоча вцілому в кожному чеку приміняється лише один вид знижки.\n",
    "Ці чеки доречно вилучити:"
   ]
  },
  {
   "cell_type": "code",
   "execution_count": 64,
   "id": "8877905e",
   "metadata": {},
   "outputs": [],
   "source": [
    "# таблиця з підрахунокм кількості знижок в чеку\n",
    "\n",
    "n_discount = df.groupby('receipt_number')['discount'].nunique().reset_index()"
   ]
  },
  {
   "cell_type": "code",
   "execution_count": 65,
   "id": "4b6e488c",
   "metadata": {},
   "outputs": [],
   "source": [
    "to_drop = n_discount[n_discount['discount'] > 1]['receipt_number'].to_numpy()"
   ]
  },
  {
   "cell_type": "code",
   "execution_count": 66,
   "id": "6501e31e",
   "metadata": {},
   "outputs": [],
   "source": [
    "quantity_in_receipt_clean = quantity_in_receipt[~quantity_in_receipt['receipt_number'].isin(to_drop)]"
   ]
  },
  {
   "cell_type": "code",
   "execution_count": 67,
   "id": "b3950676",
   "metadata": {},
   "outputs": [
    {
     "data": {
      "text/html": [
       "<div>\n",
       "<style scoped>\n",
       "    .dataframe tbody tr th:only-of-type {\n",
       "        vertical-align: middle;\n",
       "    }\n",
       "\n",
       "    .dataframe tbody tr th {\n",
       "        vertical-align: top;\n",
       "    }\n",
       "\n",
       "    .dataframe thead th {\n",
       "        text-align: right;\n",
       "    }\n",
       "</style>\n",
       "<table border=\"1\" class=\"dataframe\">\n",
       "  <thead>\n",
       "    <tr style=\"text-align: right;\">\n",
       "      <th></th>\n",
       "      <th>quantity</th>\n",
       "      <th>gross_bill_amount_correct</th>\n",
       "    </tr>\n",
       "    <tr>\n",
       "      <th>discount</th>\n",
       "      <th></th>\n",
       "      <th></th>\n",
       "    </tr>\n",
       "  </thead>\n",
       "  <tbody>\n",
       "    <tr>\n",
       "      <th>0.01</th>\n",
       "      <td>6.00</td>\n",
       "      <td>48.02</td>\n",
       "    </tr>\n",
       "    <tr>\n",
       "      <th>0.02</th>\n",
       "      <td>5.96</td>\n",
       "      <td>47.16</td>\n",
       "    </tr>\n",
       "    <tr>\n",
       "      <th>0.03</th>\n",
       "      <td>5.79</td>\n",
       "      <td>45.12</td>\n",
       "    </tr>\n",
       "    <tr>\n",
       "      <th>0.04</th>\n",
       "      <td>5.88</td>\n",
       "      <td>45.76</td>\n",
       "    </tr>\n",
       "    <tr>\n",
       "      <th>0.05</th>\n",
       "      <td>5.99</td>\n",
       "      <td>45.68</td>\n",
       "    </tr>\n",
       "  </tbody>\n",
       "</table>\n",
       "</div>"
      ],
      "text/plain": [
       "          quantity  gross_bill_amount_correct\n",
       "discount                                     \n",
       "0.01          6.00                      48.02\n",
       "0.02          5.96                      47.16\n",
       "0.03          5.79                      45.12\n",
       "0.04          5.88                      45.76\n",
       "0.05          5.99                      45.68"
      ]
     },
     "execution_count": 67,
     "metadata": {},
     "output_type": "execute_result"
    }
   ],
   "source": [
    "# групування по розміру знижки з підрахунком середньої кількості товарів в чеку та середньої суми\n",
    "\n",
    "by_discount = quantity_in_receipt_clean.groupby('discount')[['quantity', 'gross_bill_amount_correct']].mean()\n",
    "by_discount.round(2)"
   ]
  },
  {
   "cell_type": "code",
   "execution_count": 68,
   "id": "14640de9",
   "metadata": {},
   "outputs": [
    {
     "data": {
      "image/png": "[encoded data removed]",
      "text/plain": [
       "<Figure size 800x400 with 2 Axes>"
      ]
     },
     "metadata": {},
     "output_type": "display_data"
    }
   ],
   "source": [
    "fig, axes = plt.subplots(nrows=1, ncols=2, figsize=(8, 4))\n",
    "\n",
    "by_discount['quantity'].plot(kind='bar', ax=axes[0])\n",
    "axes[0].set_title('Mean number of vizits')\n",
    "\n",
    "by_discount['gross_bill_amount_correct'].plot(kind='bar', ax=axes[1])\n",
    "axes[1].set_title('Mean gross bill amount')\n",
    "\n",
    "plt.tight_layout();"
   ]
  },
  {
   "cell_type": "markdown",
   "id": "15a3365a",
   "metadata": {},
   "source": [
    "Зі збільшенням знижки в середньому відвідувачі не купують більше товарів в одному чеку, а також сумма середньго чеку не зростає. Тобто дана система знижок не стимулює відвідувачів купувати більшу кількість товарів чи дорожчі товари. Варто проаналізувати можливість збільшити середню кількість товарів у чеку та середню загальну вартість, продумати додаткові елементи програми лояльності та маркетингових заходів."
   ]
  },
  {
   "cell_type": "markdown",
   "id": "dab2902f",
   "metadata": {},
   "source": [
    "#### 12. Який графік відівдування магзинів по годинам для кожного міста?"
   ]
  },
  {
   "cell_type": "code",
   "execution_count": 69,
   "id": "870963f9",
   "metadata": {},
   "outputs": [
    {
     "data": {
      "image/png": "[encoded data removed]",
      "text/plain": [
       "<Figure size 800x500 with 1 Axes>"
      ]
     },
     "metadata": {},
     "output_type": "display_data"
    }
   ],
   "source": [
    "df.pivot_table(index='hour', columns='city_country', aggfunc='size').plot(figsize=(8,5), color = cmap([12, 4, 0, 8, 13]))\n",
    "\n",
    "plt.xticks(np.arange(10, 22)) \n",
    "plt.grid(alpha=.3)\n",
    "\n",
    "plt.title('Hourly dynamics of the number of visits')\n",
    "plt.xlabel('Hours')\n",
    "plt.ylabel('Number of visits');"
   ]
  },
  {
   "cell_type": "markdown",
   "id": "2d97a6bb",
   "metadata": {},
   "source": [
    "Помітно, що в кожній місцевості є відмінності в пікових годинах. Варто звернути увагу, що в місті Бедок, Сінгапур графік має тенденцію до зростання відвідування з 19 до 21 години. Можливо в цьому місті варто продовжити робочі години на. Також ці графіки допоможуть регулювати необхідну залученість персоналу, створення маркетингових активностей. Наприклад, в містах Маніла та Джакарта спостерігається зниження кількості відвідувачів о 14 годині, в Куала Лумпур - 12 та 14 ргодини, в Бедок - 19 година, в Вудлендс - 17 година. Можна створити акційні пропозиції в цей час на певні види товарів (розпродати ранкову випічку, тощо)."
   ]
  },
  {
   "cell_type": "code",
   "execution_count": 70,
   "id": "95d13032",
   "metadata": {},
   "outputs": [],
   "source": [
    "# запис очищеної версії даних для створення репорту \n",
    "\n",
    "df.to_csv('grosto_clean.csv', index=False)"
   ]
  },
  {
   "cell_type": "markdown",
   "id": "1f5c62e7",
   "metadata": {},
   "source": [
    "#### Візуалізація у вигляді інтерактивного репорту даних доступна за посиланням [Tableau Grosery Sales Dashbord](https://public.tableau.com/app/profile/hanna.zborovska/viz/FinalProject_17089736247760/GrostoSalesDashboard)"
   ]
  },
  {
   "cell_type": "code",
   "execution_count": null,
   "id": "bacd97ac",
   "metadata": {},
   "outputs": [],
   "source": []
  }
 ],
 "metadata": {
  "kernelspec": {
   "display_name": "Python 3 (ipykernel)",
   "language": "python",
   "name": "python3"
  },
  "language_info": {
   "codemirror_mode": {
    "name": "ipython",
    "version": 3
   },
   "file_extension": ".py",
   "mimetype": "text/x-python",
   "name": "python",
   "nbconvert_exporter": "python",
   "pygments_lexer": "ipython3",
   "version": "3.11.5"
  },
  "toc": {
   "base_numbering": 1,
   "nav_menu": {},
   "number_sections": true,
   "sideBar": true,
   "skip_h1_title": false,
   "title_cell": "Table of Contents",
   "title_sidebar": "Contents",
   "toc_cell": false,
   "toc_position": {},
   "toc_section_display": true,
   "toc_window_display": false
  }
 },
 "nbformat": 4,
 "nbformat_minor": 5
}
